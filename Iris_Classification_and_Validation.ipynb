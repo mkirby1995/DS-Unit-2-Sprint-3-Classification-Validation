{
  "nbformat": 4,
  "nbformat_minor": 0,
  "metadata": {
    "colab": {
      "name": "Iris Classification and Validation.ipynb",
      "version": "0.3.2",
      "provenance": [],
      "include_colab_link": true
    },
    "kernelspec": {
      "name": "python3",
      "display_name": "Python 3"
    }
  },
  "cells": [
    {
      "cell_type": "markdown",
      "metadata": {
        "id": "view-in-github",
        "colab_type": "text"
      },
      "source": [
        "<a href=\"https://colab.research.google.com/github/mkirby1995/DS-Unit-2-Sprint-3-Classification-Validation/blob/master/Iris_Classification_and_Validation.ipynb\" target=\"_parent\"><img src=\"https://colab.research.google.com/assets/colab-badge.svg\" alt=\"Open In Colab\"/></a>"
      ]
    },
    {
      "cell_type": "markdown",
      "metadata": {
        "id": "NIxQyVj_w_bd",
        "colab_type": "text"
      },
      "source": [
        "##Import"
      ]
    },
    {
      "cell_type": "code",
      "metadata": {
        "id": "CPDyBDsw57hA",
        "colab_type": "code",
        "outputId": "3d3b8459-fe74-4edd-842c-6a08d3845927",
        "colab": {
          "base_uri": "https://localhost:8080/",
          "height": 350
        }
      },
      "source": [
        "!pip install category_encoders"
      ],
      "execution_count": 1,
      "outputs": [
        {
          "output_type": "stream",
          "text": [
            "Collecting category_encoders\n",
            "\u001b[?25l  Downloading https://files.pythonhosted.org/packages/6e/a1/f7a22f144f33be78afeb06bfa78478e8284a64263a3c09b1ef54e673841e/category_encoders-2.0.0-py2.py3-none-any.whl (87kB)\n",
            "\u001b[K     |████████████████████████████████| 92kB 5.2MB/s \n",
            "\u001b[?25hRequirement already satisfied: pandas>=0.21.1 in /usr/local/lib/python3.6/dist-packages (from category_encoders) (0.24.2)\n",
            "Requirement already satisfied: patsy>=0.4.1 in /usr/local/lib/python3.6/dist-packages (from category_encoders) (0.5.1)\n",
            "Requirement already satisfied: scikit-learn>=0.20.0 in /usr/local/lib/python3.6/dist-packages (from category_encoders) (0.20.3)\n",
            "Requirement already satisfied: scipy>=0.19.0 in /usr/local/lib/python3.6/dist-packages (from category_encoders) (1.2.1)\n",
            "Requirement already satisfied: statsmodels>=0.6.1 in /usr/local/lib/python3.6/dist-packages (from category_encoders) (0.9.0)\n",
            "Requirement already satisfied: numpy>=1.11.3 in /usr/local/lib/python3.6/dist-packages (from category_encoders) (1.16.3)\n",
            "Requirement already satisfied: python-dateutil>=2.5.0 in /usr/local/lib/python3.6/dist-packages (from pandas>=0.21.1->category_encoders) (2.5.3)\n",
            "Requirement already satisfied: pytz>=2011k in /usr/local/lib/python3.6/dist-packages (from pandas>=0.21.1->category_encoders) (2018.9)\n",
            "Requirement already satisfied: six in /usr/local/lib/python3.6/dist-packages (from patsy>=0.4.1->category_encoders) (1.12.0)\n",
            "Installing collected packages: category-encoders\n",
            "Successfully installed category-encoders-2.0.0\n"
          ],
          "name": "stdout"
        }
      ]
    },
    {
      "cell_type": "code",
      "metadata": {
        "id": "dDl5oPyszd-R",
        "colab_type": "code",
        "colab": {}
      },
      "source": [
        "import pandas as pd\n",
        "import matplotlib.pyplot as plt\n",
        "import numpy as np\n",
        "import graphviz\n",
        "import category_encoders as ce\n",
        "import seaborn as sns\n",
        "\n",
        "from sklearn.model_selection import train_test_split, cross_val_score\n",
        "from sklearn.tree import DecisionTreeClassifier, export_graphviz\n",
        "from sklearn.linear_model import LogisticRegression\n",
        "from sklearn.preprocessing import StandardScaler\n",
        "from sklearn.pipeline import make_pipeline\n",
        "from sklearn.metrics import accuracy_score, classification_report, confusion_matrix, roc_auc_score\n",
        "from mlxtend.plotting import plot_decision_regions\n",
        "from sklearn.ensemble import RandomForestClassifier\n",
        "from xgboost import XGBClassifier"
      ],
      "execution_count": 0,
      "outputs": []
    },
    {
      "cell_type": "code",
      "metadata": {
        "id": "vkqC7Q_cwTTY",
        "colab_type": "code",
        "colab": {}
      },
      "source": [
        "Iris = 'https://archive.ics.uci.edu/ml/machine-learning-databases/iris/iris.data'\n",
        "df = pd.read_csv(Iris, header=None, names=['sepal_length',\n",
        "                                           'sepal_width',\n",
        "                                           'petal_length',\n",
        "                                           'petal_width',\n",
        "                                           'species'])"
      ],
      "execution_count": 0,
      "outputs": []
    },
    {
      "cell_type": "markdown",
      "metadata": {
        "id": "PLdWsuoa3lBw",
        "colab_type": "text"
      },
      "source": [
        "Since this is a very small and clean dataset we will add some variation"
      ]
    },
    {
      "cell_type": "code",
      "metadata": {
        "id": "oDrsODC-3qLm",
        "colab_type": "code",
        "outputId": "8dcc4d3e-ec07-4053-bee4-0082498dc0c0",
        "colab": {
          "base_uri": "https://localhost:8080/",
          "height": 34
        }
      },
      "source": [
        "for i in range(1000):\n",
        "  df = df.append(df.sample())\n",
        "  \n",
        "df.index = range(1150)\n",
        "df.index.nunique()"
      ],
      "execution_count": 4,
      "outputs": [
        {
          "output_type": "execute_result",
          "data": {
            "text/plain": [
              "1150"
            ]
          },
          "metadata": {
            "tags": []
          },
          "execution_count": 4
        }
      ]
    },
    {
      "cell_type": "markdown",
      "metadata": {
        "id": "ha8i8_tnxDHr",
        "colab_type": "text"
      },
      "source": [
        "\n",
        "\n",
        "---\n",
        "\n"
      ]
    },
    {
      "cell_type": "markdown",
      "metadata": {
        "id": "9QkhbBv6xDpK",
        "colab_type": "text"
      },
      "source": [
        "##Explore"
      ]
    },
    {
      "cell_type": "code",
      "metadata": {
        "id": "MZPEWOeQwgYq",
        "colab_type": "code",
        "outputId": "0817d6b9-1a65-4f10-94b1-55564eb64de1",
        "colab": {
          "base_uri": "https://localhost:8080/",
          "height": 119
        }
      },
      "source": [
        "df.isnull().sum()"
      ],
      "execution_count": 5,
      "outputs": [
        {
          "output_type": "execute_result",
          "data": {
            "text/plain": [
              "sepal_length    0\n",
              "sepal_width     0\n",
              "petal_length    0\n",
              "petal_width     0\n",
              "species         0\n",
              "dtype: int64"
            ]
          },
          "metadata": {
            "tags": []
          },
          "execution_count": 5
        }
      ]
    },
    {
      "cell_type": "code",
      "metadata": {
        "id": "k7EDe-cLzBdD",
        "colab_type": "code",
        "outputId": "c4bea85a-6ad1-492f-c817-a0934b17afa8",
        "colab": {
          "base_uri": "https://localhost:8080/",
          "height": 187
        }
      },
      "source": [
        "df.info()"
      ],
      "execution_count": 6,
      "outputs": [
        {
          "output_type": "stream",
          "text": [
            "<class 'pandas.core.frame.DataFrame'>\n",
            "RangeIndex: 1150 entries, 0 to 1149\n",
            "Data columns (total 5 columns):\n",
            "sepal_length    1150 non-null float64\n",
            "sepal_width     1150 non-null float64\n",
            "petal_length    1150 non-null float64\n",
            "petal_width     1150 non-null float64\n",
            "species         1150 non-null object\n",
            "dtypes: float64(4), object(1)\n",
            "memory usage: 45.0+ KB\n"
          ],
          "name": "stdout"
        }
      ]
    },
    {
      "cell_type": "code",
      "metadata": {
        "id": "ZHNJd2jp0aOi",
        "colab_type": "code",
        "outputId": "4b452e9e-436b-4629-afc3-dc6a377dbb8f",
        "colab": {
          "base_uri": "https://localhost:8080/",
          "height": 269
        }
      },
      "source": [
        "for col in df.drop(columns='species').columns:\n",
        "  plt.scatter(df[col], df['species'], label=col)\n",
        "  \n",
        "plt.grid()  \n",
        "plt.legend()\n",
        "plt.show();"
      ],
      "execution_count": 7,
      "outputs": [
        {
          "output_type": "display_data",
          "data": {
            "image/png": "[encoded data removed]",
            "text/plain": [
              "<Figure size 432x288 with 1 Axes>"
            ]
          },
          "metadata": {
            "tags": []
          }
        }
      ]
    },
    {
      "cell_type": "markdown",
      "metadata": {
        "id": "qG8_nvs7xHQH",
        "colab_type": "text"
      },
      "source": [
        "\n",
        "\n",
        "---\n",
        "\n"
      ]
    },
    {
      "cell_type": "markdown",
      "metadata": {
        "id": "Ri3Mgkni1O98",
        "colab_type": "text"
      },
      "source": [
        "##Model"
      ]
    },
    {
      "cell_type": "markdown",
      "metadata": {
        "id": "uVWjMC712zR9",
        "colab_type": "text"
      },
      "source": [
        "###Train, Validation, Test Split"
      ]
    },
    {
      "cell_type": "markdown",
      "metadata": {
        "id": "0eGV9hua5fXA",
        "colab_type": "text"
      },
      "source": [
        "Encode Species"
      ]
    },
    {
      "cell_type": "code",
      "metadata": {
        "id": "7Vw0fzrbS4dH",
        "colab_type": "code",
        "colab": {}
      },
      "source": [
        "df['species'] = df['species'].replace({'Iris-versicolor':1, 'Iris-setosa':2, 'Iris-virginica':3})"
      ],
      "execution_count": 0,
      "outputs": []
    },
    {
      "cell_type": "markdown",
      "metadata": {
        "id": "tqihK0BW5i31",
        "colab_type": "text"
      },
      "source": [
        "Train, Validation, Test Split Function"
      ]
    },
    {
      "cell_type": "code",
      "metadata": {
        "id": "JwMtb7ac3D9m",
        "colab_type": "code",
        "colab": {}
      },
      "source": [
        "def three_way_split(DataFrame, Target):\n",
        "  \"\"\"\n",
        "  Given a DataFrame name and a feature(str) this function will preform a\n",
        "  three way split and return the shapes of each set.\n",
        "  \"\"\"\n",
        "  \n",
        "  # Define sets as global variables\n",
        "  global xtrain, xval, xtest, ytrain, yval, ytest, x, y\n",
        "  \n",
        "  # X and Y assignment\n",
        "  x = DataFrame.drop(columns=Target)\n",
        "  y = DataFrame[Target]\n",
        "  \n",
        "  # First split\n",
        "  xtrain, xtest, ytrain, ytest = train_test_split(\n",
        "      x,\n",
        "      y,\n",
        "      test_size=.2,\n",
        "      random_state=42,\n",
        "      stratify=y)\n",
        "  \n",
        "  # Second split\n",
        "  xtrain, xval, ytrain, yval = train_test_split(\n",
        "      xtrain,\n",
        "      ytrain,\n",
        "      test_size=.3,\n",
        "      random_state=42,\n",
        "      stratify=ytrain)\n",
        "  \n",
        "  # Return shapes\n",
        "  print(' X Train', xtrain.shape, '\\n',\n",
        "        'X Validation', xval.shape, '\\n',\n",
        "        'X Test', xtest.shape, '\\n',\n",
        "        'Y Train', ytrain.shape, '\\n',\n",
        "        'Y Validation', yval.shape, '\\n',\n",
        "        'Y Test', ytest.shape)"
      ],
      "execution_count": 0,
      "outputs": []
    },
    {
      "cell_type": "markdown",
      "metadata": {
        "id": "bnioERIk5nWD",
        "colab_type": "text"
      },
      "source": [
        "Run Split"
      ]
    },
    {
      "cell_type": "code",
      "metadata": {
        "id": "2bhqgveLWJ8P",
        "colab_type": "code",
        "outputId": "84ffab82-60bf-44b6-d3eb-ff9d3b25dc0a",
        "colab": {
          "base_uri": "https://localhost:8080/",
          "height": 119
        }
      },
      "source": [
        "three_way_split(df, 'species')"
      ],
      "execution_count": 10,
      "outputs": [
        {
          "output_type": "stream",
          "text": [
            " X Train (644, 4) \n",
            " X Validation (276, 4) \n",
            " X Test (230, 4) \n",
            " Y Train (644,) \n",
            " Y Validation (276,) \n",
            " Y Test (230,)\n"
          ],
          "name": "stdout"
        }
      ]
    },
    {
      "cell_type": "markdown",
      "metadata": {
        "id": "JfIqNFdf1Qi1",
        "colab_type": "text"
      },
      "source": [
        "\n",
        "\n",
        "---\n",
        "\n"
      ]
    },
    {
      "cell_type": "markdown",
      "metadata": {
        "id": "L6R5EaTM3CKO",
        "colab_type": "text"
      },
      "source": [
        "###Majority Baseline"
      ]
    },
    {
      "cell_type": "markdown",
      "metadata": {
        "id": "sxEbCP_X5v3P",
        "colab_type": "text"
      },
      "source": [
        "Check the normalized counts for each species"
      ]
    },
    {
      "cell_type": "code",
      "metadata": {
        "id": "d9X_qlru3Zf1",
        "colab_type": "code",
        "outputId": "fa7817fa-b9f0-4051-b493-cf9936fb919a",
        "colab": {
          "base_uri": "https://localhost:8080/",
          "height": 85
        }
      },
      "source": [
        "ytrain.value_counts(normalize=True)"
      ],
      "execution_count": 11,
      "outputs": [
        {
          "output_type": "execute_result",
          "data": {
            "text/plain": [
              "3    0.343168\n",
              "1    0.332298\n",
              "2    0.324534\n",
              "Name: species, dtype: float64"
            ]
          },
          "metadata": {
            "tags": []
          },
          "execution_count": 11
        }
      ]
    },
    {
      "cell_type": "markdown",
      "metadata": {
        "id": "Lpr0dllB51Ki",
        "colab_type": "text"
      },
      "source": [
        "Run a majority baseline model"
      ]
    },
    {
      "cell_type": "code",
      "metadata": {
        "id": "Jz620t6yGzvC",
        "colab_type": "code",
        "colab": {
          "base_uri": "https://localhost:8080/",
          "height": 34
        },
        "outputId": "6062acff-ee8c-432b-b420-5544dc50f471"
      },
      "source": [
        "majority_class = yval.mode()[0]\n",
        "majority_class_pred = [majority_class] * len(yval)\n",
        "accuracy_score(yval, majority_class_pred)"
      ],
      "execution_count": 12,
      "outputs": [
        {
          "output_type": "execute_result",
          "data": {
            "text/plain": [
              "0.34057971014492755"
            ]
          },
          "metadata": {
            "tags": []
          },
          "execution_count": 12
        }
      ]
    },
    {
      "cell_type": "markdown",
      "metadata": {
        "id": "Vzu45uWC3ZoV",
        "colab_type": "text"
      },
      "source": [
        "\n",
        "\n",
        "---\n",
        "\n"
      ]
    },
    {
      "cell_type": "markdown",
      "metadata": {
        "id": "QeC9uy6l7Uy4",
        "colab_type": "text"
      },
      "source": [
        "###Decision Stump"
      ]
    },
    {
      "cell_type": "code",
      "metadata": {
        "id": "erLiHi7mHJYI",
        "colab_type": "code",
        "colab": {
          "base_uri": "https://localhost:8080/",
          "height": 34
        },
        "outputId": "b15b1baf-abab-4f18-aa5b-ab66682f41a5"
      },
      "source": [
        "stump = DecisionTreeClassifier(max_depth=3)\n",
        "stump.fit(xtrain, ytrain)\n",
        "stump.score(xtrain, ytrain)"
      ],
      "execution_count": 13,
      "outputs": [
        {
          "output_type": "execute_result",
          "data": {
            "text/plain": [
              "0.9875776397515528"
            ]
          },
          "metadata": {
            "tags": []
          },
          "execution_count": 13
        }
      ]
    },
    {
      "cell_type": "code",
      "metadata": {
        "id": "PU_oXpQIMqvt",
        "colab_type": "code",
        "colab": {}
      },
      "source": [
        "stump_pred_ = []\n",
        "for _ in range(len(stump.predict_proba(xval)[:,0])):\n",
        "  stump_pred_.append(\n",
        "      max(\n",
        "          [stump.predict_proba(xval)[:,0][_],\n",
        "           stump.predict_proba(xval)[:,1][_],\n",
        "           stump.predict_proba(xval)[:,2][_]]))"
      ],
      "execution_count": 0,
      "outputs": []
    },
    {
      "cell_type": "code",
      "metadata": {
        "id": "azefrO8tMsDd",
        "colab_type": "code",
        "colab": {}
      },
      "source": [
        "stump_pred_proba = stump_pred_"
      ],
      "execution_count": 0,
      "outputs": []
    },
    {
      "cell_type": "code",
      "metadata": {
        "id": "82zcKfXH9J8b",
        "colab_type": "code",
        "colab": {}
      },
      "source": [
        "stump_pred = stump.predict(xval)"
      ],
      "execution_count": 0,
      "outputs": []
    },
    {
      "cell_type": "code",
      "metadata": {
        "id": "xPqU8-L7NvOB",
        "colab_type": "code",
        "outputId": "60b3f79b-92f3-4442-84c4-1afa907e0eab",
        "colab": {
          "base_uri": "https://localhost:8080/",
          "height": 518
        }
      },
      "source": [
        "dot_data = export_graphviz(stump, out_file=None, feature_names=xtrain.columns, \n",
        "                           class_names=['Iris-versicolor', 'Iris-setosa', 'Iris-virginica'], filled=True, impurity=False, proportion=True)\n",
        "\n",
        "graphviz.Source(dot_data)"
      ],
      "execution_count": 17,
      "outputs": [
        {
          "output_type": "execute_result",
          "data": {
            "text/plain": [
              "<graphviz.files.Source at 0x7fd513997908>"
            ],
            "image/svg+xml": "<?xml version=\"1.0\" encoding=\"UTF-8\" standalone=\"no\"?>\n<!DOCTYPE svg PUBLIC \"-//W3C//DTD SVG 1.1//EN\"\n \"http://www.w3.org/Graphics/SVG/1.1/DTD/svg11.dtd\">\n<!-- Generated by graphviz version 2.40.1 (20161225.0304)\n -->\n<!-- Title: Tree Pages: 1 -->\n<svg width=\"671pt\" height=\"373pt\"\n viewBox=\"0.00 0.00 671.00 373.00\" xmlns=\"http://www.w3.org/2000/svg\" xmlns:xlink=\"http://www.w3.org/1999/xlink\">\n<g id=\"graph0\" class=\"graph\" transform=\"scale(1 1) rotate(0) translate(4 369)\">\n<title>Tree</title>\n<polygon fill=\"#ffffff\" stroke=\"transparent\" points=\"-4,4 -4,-369 667,-369 667,4 -4,4\"/>\n<!-- 0 -->\n<g id=\"node1\" class=\"node\">\n<title>0</title>\n<polygon fill=\"#8139e5\" fill-opacity=\"0.015686\" stroke=\"#000000\" points=\"330.5,-365 142.5,-365 142.5,-297 330.5,-297 330.5,-365\"/>\n<text text-anchor=\"middle\" x=\"236.5\" y=\"-349.8\" font-family=\"Times,serif\" font-size=\"14.00\" fill=\"#000000\">petal_width &lt;= 0.8</text>\n<text text-anchor=\"middle\" x=\"236.5\" y=\"-334.8\" font-family=\"Times,serif\" font-size=\"14.00\" fill=\"#000000\">samples = 100.0%</text>\n<text text-anchor=\"middle\" x=\"236.5\" y=\"-319.8\" font-family=\"Times,serif\" font-size=\"14.00\" fill=\"#000000\">value = [0.332, 0.325, 0.343]</text>\n<text text-anchor=\"middle\" x=\"236.5\" y=\"-304.8\" font-family=\"Times,serif\" font-size=\"14.00\" fill=\"#000000\">class = Iris&#45;virginica</text>\n</g>\n<!-- 1 -->\n<g id=\"node2\" class=\"node\">\n<title>1</title>\n<polygon fill=\"#39e581\" stroke=\"#000000\" points=\"220,-253.5 77,-253.5 77,-200.5 220,-200.5 220,-253.5\"/>\n<text text-anchor=\"middle\" x=\"148.5\" y=\"-238.3\" font-family=\"Times,serif\" font-size=\"14.00\" fill=\"#000000\">samples = 32.5%</text>\n<text text-anchor=\"middle\" x=\"148.5\" y=\"-223.3\" font-family=\"Times,serif\" font-size=\"14.00\" fill=\"#000000\">value = [0.0, 1.0, 0.0]</text>\n<text text-anchor=\"middle\" x=\"148.5\" y=\"-208.3\" font-family=\"Times,serif\" font-size=\"14.00\" fill=\"#000000\">class = Iris&#45;setosa</text>\n</g>\n<!-- 0&#45;&gt;1 -->\n<g id=\"edge1\" class=\"edge\">\n<title>0&#45;&gt;1</title>\n<path fill=\"none\" stroke=\"#000000\" d=\"M207.6855,-296.9465C197.9924,-285.491 187.1786,-272.711 177.4733,-261.2412\"/>\n<polygon fill=\"#000000\" stroke=\"#000000\" points=\"180.0901,-258.9152 170.9588,-253.5422 174.7464,-263.4369 180.0901,-258.9152\"/>\n<text text-anchor=\"middle\" x=\"168.8826\" y=\"-274.7558\" font-family=\"Times,serif\" font-size=\"14.00\" fill=\"#000000\">True</text>\n</g>\n<!-- 2 -->\n<g id=\"node3\" class=\"node\">\n<title>2</title>\n<polygon fill=\"#8139e5\" fill-opacity=\"0.031373\" stroke=\"#000000\" points=\"411,-261 238,-261 238,-193 411,-193 411,-261\"/>\n<text text-anchor=\"middle\" x=\"324.5\" y=\"-245.8\" font-family=\"Times,serif\" font-size=\"14.00\" fill=\"#000000\">petal_length &lt;= 4.95</text>\n<text text-anchor=\"middle\" x=\"324.5\" y=\"-230.8\" font-family=\"Times,serif\" font-size=\"14.00\" fill=\"#000000\">samples = 67.5%</text>\n<text text-anchor=\"middle\" x=\"324.5\" y=\"-215.8\" font-family=\"Times,serif\" font-size=\"14.00\" fill=\"#000000\">value = [0.492, 0.0, 0.508]</text>\n<text text-anchor=\"middle\" x=\"324.5\" y=\"-200.8\" font-family=\"Times,serif\" font-size=\"14.00\" fill=\"#000000\">class = Iris&#45;virginica</text>\n</g>\n<!-- 0&#45;&gt;2 -->\n<g id=\"edge2\" class=\"edge\">\n<title>0&#45;&gt;2</title>\n<path fill=\"none\" stroke=\"#000000\" d=\"M265.3145,-296.9465C272.9117,-287.968 281.1974,-278.1758 289.0982,-268.8385\"/>\n<polygon fill=\"#000000\" stroke=\"#000000\" points=\"291.8332,-271.0247 295.6208,-261.13 286.4895,-266.5031 291.8332,-271.0247\"/>\n<text text-anchor=\"middle\" x=\"297.6969\" y=\"-282.3436\" font-family=\"Times,serif\" font-size=\"14.00\" fill=\"#000000\">False</text>\n</g>\n<!-- 3 -->\n<g id=\"node4\" class=\"node\">\n<title>3</title>\n<polygon fill=\"#e58139\" fill-opacity=\"0.905882\" stroke=\"#000000\" points=\"315,-157 142,-157 142,-89 315,-89 315,-157\"/>\n<text text-anchor=\"middle\" x=\"228.5\" y=\"-141.8\" font-family=\"Times,serif\" font-size=\"14.00\" fill=\"#000000\">petal_width &lt;= 1.65</text>\n<text text-anchor=\"middle\" x=\"228.5\" y=\"-126.8\" font-family=\"Times,serif\" font-size=\"14.00\" fill=\"#000000\">samples = 34.9%</text>\n<text text-anchor=\"middle\" x=\"228.5\" y=\"-111.8\" font-family=\"Times,serif\" font-size=\"14.00\" fill=\"#000000\">value = [0.916, 0.0, 0.084]</text>\n<text text-anchor=\"middle\" x=\"228.5\" y=\"-96.8\" font-family=\"Times,serif\" font-size=\"14.00\" fill=\"#000000\">class = Iris&#45;versicolor</text>\n</g>\n<!-- 2&#45;&gt;3 -->\n<g id=\"edge3\" class=\"edge\">\n<title>2&#45;&gt;3</title>\n<path fill=\"none\" stroke=\"#000000\" d=\"M293.066,-192.9465C284.6953,-183.8782 275.5584,-173.9799 266.8617,-164.5585\"/>\n<polygon fill=\"#000000\" stroke=\"#000000\" points=\"269.3593,-162.1041 260.0046,-157.13 264.2156,-166.852 269.3593,-162.1041\"/>\n</g>\n<!-- 6 -->\n<g id=\"node7\" class=\"node\">\n<title>6</title>\n<polygon fill=\"#8139e5\" fill-opacity=\"0.960784\" stroke=\"#000000\" points=\"506,-157 333,-157 333,-89 506,-89 506,-157\"/>\n<text text-anchor=\"middle\" x=\"419.5\" y=\"-141.8\" font-family=\"Times,serif\" font-size=\"14.00\" fill=\"#000000\">petal_width &lt;= 1.75</text>\n<text text-anchor=\"middle\" x=\"419.5\" y=\"-126.8\" font-family=\"Times,serif\" font-size=\"14.00\" fill=\"#000000\">samples = 32.6%</text>\n<text text-anchor=\"middle\" x=\"419.5\" y=\"-111.8\" font-family=\"Times,serif\" font-size=\"14.00\" fill=\"#000000\">value = [0.038, 0.0, 0.962]</text>\n<text text-anchor=\"middle\" x=\"419.5\" y=\"-96.8\" font-family=\"Times,serif\" font-size=\"14.00\" fill=\"#000000\">class = Iris&#45;virginica</text>\n</g>\n<!-- 2&#45;&gt;6 -->\n<g id=\"edge6\" class=\"edge\">\n<title>2&#45;&gt;6</title>\n<path fill=\"none\" stroke=\"#000000\" d=\"M355.6066,-192.9465C363.8901,-183.8782 372.9318,-173.9799 381.5379,-164.5585\"/>\n<polygon fill=\"#000000\" stroke=\"#000000\" points=\"384.1633,-166.8739 388.3236,-157.13 378.995,-162.1528 384.1633,-166.8739\"/>\n</g>\n<!-- 4 -->\n<g id=\"node5\" class=\"node\">\n<title>4</title>\n<polygon fill=\"#e58139\" stroke=\"#000000\" points=\"143,-53 0,-53 0,0 143,0 143,-53\"/>\n<text text-anchor=\"middle\" x=\"71.5\" y=\"-37.8\" font-family=\"Times,serif\" font-size=\"14.00\" fill=\"#000000\">samples = 32.0%</text>\n<text text-anchor=\"middle\" x=\"71.5\" y=\"-22.8\" font-family=\"Times,serif\" font-size=\"14.00\" fill=\"#000000\">value = [1.0, 0.0, 0.0]</text>\n<text text-anchor=\"middle\" x=\"71.5\" y=\"-7.8\" font-family=\"Times,serif\" font-size=\"14.00\" fill=\"#000000\">class = Iris&#45;versicolor</text>\n</g>\n<!-- 3&#45;&gt;4 -->\n<g id=\"edge4\" class=\"edge\">\n<title>3&#45;&gt;4</title>\n<path fill=\"none\" stroke=\"#000000\" d=\"M173.1477,-88.9777C157.058,-79.0882 139.5434,-68.3229 123.6571,-58.5583\"/>\n<polygon fill=\"#000000\" stroke=\"#000000\" points=\"125.3704,-55.5032 115.0182,-53.2485 121.7049,-61.4667 125.3704,-55.5032\"/>\n</g>\n<!-- 5 -->\n<g id=\"node6\" class=\"node\">\n<title>5</title>\n<polygon fill=\"#8139e5\" stroke=\"#000000\" points=\"304,-53 161,-53 161,0 304,0 304,-53\"/>\n<text text-anchor=\"middle\" x=\"232.5\" y=\"-37.8\" font-family=\"Times,serif\" font-size=\"14.00\" fill=\"#000000\">samples = 3.0%</text>\n<text text-anchor=\"middle\" x=\"232.5\" y=\"-22.8\" font-family=\"Times,serif\" font-size=\"14.00\" fill=\"#000000\">value = [0.0, 0.0, 1.0]</text>\n<text text-anchor=\"middle\" x=\"232.5\" y=\"-7.8\" font-family=\"Times,serif\" font-size=\"14.00\" fill=\"#000000\">class = Iris&#45;virginica</text>\n</g>\n<!-- 3&#45;&gt;5 -->\n<g id=\"edge5\" class=\"edge\">\n<title>3&#45;&gt;5</title>\n<path fill=\"none\" stroke=\"#000000\" d=\"M229.9103,-88.9777C230.2519,-80.7364 230.6187,-71.887 230.9657,-63.5153\"/>\n<polygon fill=\"#000000\" stroke=\"#000000\" points=\"234.474,-63.3849 231.3913,-53.2485 227.48,-63.0949 234.474,-63.3849\"/>\n</g>\n<!-- 7 -->\n<g id=\"node8\" class=\"node\">\n<title>7</title>\n<polygon fill=\"#8139e5\" fill-opacity=\"0.678431\" stroke=\"#000000\" points=\"502,-53 329,-53 329,0 502,0 502,-53\"/>\n<text text-anchor=\"middle\" x=\"415.5\" y=\"-37.8\" font-family=\"Times,serif\" font-size=\"14.00\" fill=\"#000000\">samples = 5.1%</text>\n<text text-anchor=\"middle\" x=\"415.5\" y=\"-22.8\" font-family=\"Times,serif\" font-size=\"14.00\" fill=\"#000000\">value = [0.242, 0.0, 0.758]</text>\n<text text-anchor=\"middle\" x=\"415.5\" y=\"-7.8\" font-family=\"Times,serif\" font-size=\"14.00\" fill=\"#000000\">class = Iris&#45;virginica</text>\n</g>\n<!-- 6&#45;&gt;7 -->\n<g id=\"edge7\" class=\"edge\">\n<title>6&#45;&gt;7</title>\n<path fill=\"none\" stroke=\"#000000\" d=\"M418.0897,-88.9777C417.7481,-80.7364 417.3813,-71.887 417.0343,-63.5153\"/>\n<polygon fill=\"#000000\" stroke=\"#000000\" points=\"420.52,-63.0949 416.6087,-53.2485 413.526,-63.3849 420.52,-63.0949\"/>\n</g>\n<!-- 8 -->\n<g id=\"node9\" class=\"node\">\n<title>8</title>\n<polygon fill=\"#8139e5\" stroke=\"#000000\" points=\"663,-53 520,-53 520,0 663,0 663,-53\"/>\n<text text-anchor=\"middle\" x=\"591.5\" y=\"-37.8\" font-family=\"Times,serif\" font-size=\"14.00\" fill=\"#000000\">samples = 27.5%</text>\n<text text-anchor=\"middle\" x=\"591.5\" y=\"-22.8\" font-family=\"Times,serif\" font-size=\"14.00\" fill=\"#000000\">value = [0.0, 0.0, 1.0]</text>\n<text text-anchor=\"middle\" x=\"591.5\" y=\"-7.8\" font-family=\"Times,serif\" font-size=\"14.00\" fill=\"#000000\">class = Iris&#45;virginica</text>\n</g>\n<!-- 6&#45;&gt;8 -->\n<g id=\"edge8\" class=\"edge\">\n<title>6&#45;&gt;8</title>\n<path fill=\"none\" stroke=\"#000000\" d=\"M480.1408,-88.9777C498.0133,-78.9504 517.4905,-68.0228 535.0861,-58.1508\"/>\n<polygon fill=\"#000000\" stroke=\"#000000\" points=\"537.0888,-61.0405 544.0975,-53.095 533.6637,-54.9356 537.0888,-61.0405\"/>\n</g>\n</g>\n</svg>\n"
          },
          "metadata": {
            "tags": []
          },
          "execution_count": 17
        }
      ]
    },
    {
      "cell_type": "markdown",
      "metadata": {
        "id": "DtjRMWOL6b1O",
        "colab_type": "text"
      },
      "source": [
        "\n",
        "\n",
        "---\n",
        "\n"
      ]
    },
    {
      "cell_type": "markdown",
      "metadata": {
        "id": "AsfFgguldSZI",
        "colab_type": "text"
      },
      "source": [
        "###Logistic Regression"
      ]
    },
    {
      "cell_type": "code",
      "metadata": {
        "id": "yoFyIKcCdR_L",
        "colab_type": "code",
        "colab": {}
      },
      "source": [
        "pipeline = make_pipeline(\n",
        "  ce.OneHotEncoder(use_cat_names=True),\n",
        "  StandardScaler(),\n",
        "  LogisticRegression(solver='lbfgs', max_iter=1000))"
      ],
      "execution_count": 0,
      "outputs": []
    },
    {
      "cell_type": "code",
      "metadata": {
        "id": "vHZHY0iCdlYU",
        "colab_type": "code",
        "outputId": "4392cbae-03ee-4b59-ce62-b6b882e759af",
        "colab": {
          "base_uri": "https://localhost:8080/",
          "height": 85
        }
      },
      "source": [
        "scores = cross_val_score(pipeline, xtrain, ytrain, scoring='accuracy', cv=10, n_jobs=-1, verbose=10)"
      ],
      "execution_count": 19,
      "outputs": [
        {
          "output_type": "stream",
          "text": [
            "[Parallel(n_jobs=-1)]: Using backend LokyBackend with 2 concurrent workers.\n",
            "[Parallel(n_jobs=-1)]: Done   1 tasks      | elapsed:    2.2s\n",
            "[Parallel(n_jobs=-1)]: Done   4 tasks      | elapsed:    2.3s\n",
            "[Parallel(n_jobs=-1)]: Done  10 out of  10 | elapsed:    2.4s finished\n"
          ],
          "name": "stderr"
        }
      ]
    },
    {
      "cell_type": "code",
      "metadata": {
        "id": "wwwVmFFKe3Bu",
        "colab_type": "code",
        "outputId": "e76be68f-94a1-48ba-d9b0-a517c99b9bbc",
        "colab": {
          "base_uri": "https://localhost:8080/",
          "height": 102
        }
      },
      "source": [
        "print('Cross-Validation accuracy scores:', scores,'\\n\\n')\n",
        "print('Average:', scores.mean())"
      ],
      "execution_count": 20,
      "outputs": [
        {
          "output_type": "stream",
          "text": [
            "Cross-Validation accuracy scores: [0.95454545 1.         0.93846154 0.96923077 1.         1.\n",
            " 0.96875    0.921875   0.890625   0.95238095] \n",
            "\n",
            "\n",
            "Average: 0.9595868714618714\n"
          ],
          "name": "stdout"
        }
      ]
    },
    {
      "cell_type": "code",
      "metadata": {
        "id": "W27YT5hOxR7u",
        "colab_type": "code",
        "outputId": "9ace97f0-9630-4e68-8329-3d9d8876e4b5",
        "colab": {
          "base_uri": "https://localhost:8080/",
          "height": 735
        }
      },
      "source": [
        "# (Re)fit on training data\n",
        "pipeline.fit(xtrain, ytrain)\n",
        "\n",
        "# Visualize coefficients\n",
        "plt.figure(figsize=(19,10))\n",
        "plt.title('Coefficients')\n",
        "\n",
        "coefficients = pipeline.named_steps['logisticregression'].coef_[0]\n",
        "\n",
        "feature_names = pipeline.named_steps['onehotencoder'].transform(xtrain).columns\n",
        "\n",
        "pd.Series(coefficients, feature_names).sort_values().plot.bar(color='red')\n",
        "plt.grid()\n",
        "plt.show();"
      ],
      "execution_count": 21,
      "outputs": [
        {
          "output_type": "stream",
          "text": [
            "/usr/local/lib/python3.6/dist-packages/sklearn/linear_model/logistic.py:460: FutureWarning: Default multi_class will be changed to 'auto' in 0.22. Specify the multi_class option to silence this warning.\n",
            "  \"this warning.\", FutureWarning)\n"
          ],
          "name": "stderr"
        },
        {
          "output_type": "display_data",
          "data": {
            "image/png": "[encoded data removed]",
            "text/plain": [
              "<Figure size 1368x720 with 1 Axes>"
            ]
          },
          "metadata": {
            "tags": []
          }
        }
      ]
    },
    {
      "cell_type": "code",
      "metadata": {
        "id": "X8d9q7Nh9jng",
        "colab_type": "code",
        "colab": {}
      },
      "source": [
        "logistic_pred = pipeline.predict(xval)"
      ],
      "execution_count": 0,
      "outputs": []
    },
    {
      "cell_type": "code",
      "metadata": {
        "id": "L_dfBYfnIXZp",
        "colab_type": "code",
        "colab": {}
      },
      "source": [
        "log_pred = []\n",
        "for _ in range(len(pipeline.predict_proba(xval)[:,0])):\n",
        "  log_pred.append(\n",
        "      max(\n",
        "          [pipeline.predict_proba(xval)[:,0][_],\n",
        "           pipeline.predict_proba(xval)[:,1][_],\n",
        "           pipeline.predict_proba(xval)[:,2][_]]))"
      ],
      "execution_count": 0,
      "outputs": []
    },
    {
      "cell_type": "code",
      "metadata": {
        "id": "pEqPP9Kr9zy0",
        "colab_type": "code",
        "colab": {}
      },
      "source": [
        "logistic_pred_proba = log_pred"
      ],
      "execution_count": 0,
      "outputs": []
    },
    {
      "cell_type": "markdown",
      "metadata": {
        "id": "8xjm4YDudTAQ",
        "colab_type": "text"
      },
      "source": [
        "\n",
        "\n",
        "---\n",
        "\n"
      ]
    },
    {
      "cell_type": "markdown",
      "metadata": {
        "id": "YJs5266qOPFY",
        "colab_type": "text"
      },
      "source": [
        "###Random Forrest"
      ]
    },
    {
      "cell_type": "code",
      "metadata": {
        "id": "y3KfLIuDOREk",
        "colab_type": "code",
        "colab": {
          "base_uri": "https://localhost:8080/",
          "height": 34
        },
        "outputId": "cfc7cc50-6817-4b7c-f496-fac230d27212"
      },
      "source": [
        "random_forest = RandomForestClassifier(max_depth=2, n_estimators=25)\n",
        "random_forest.fit(xtrain, ytrain)\n",
        "random_forest.score(xval,yval)"
      ],
      "execution_count": 25,
      "outputs": [
        {
          "output_type": "execute_result",
          "data": {
            "text/plain": [
              "0.9528985507246377"
            ]
          },
          "metadata": {
            "tags": []
          },
          "execution_count": 25
        }
      ]
    },
    {
      "cell_type": "code",
      "metadata": {
        "id": "YZaNiPzOQ4rR",
        "colab_type": "code",
        "colab": {}
      },
      "source": [
        "random_forest_pred = random_forest.predict(xval)"
      ],
      "execution_count": 0,
      "outputs": []
    },
    {
      "cell_type": "code",
      "metadata": {
        "id": "MDeFcECsQ6ed",
        "colab_type": "code",
        "colab": {}
      },
      "source": [
        "forest = []\n",
        "for _ in range(len(random_forest.predict_proba(xval)[:,0])):\n",
        "  forest.append(\n",
        "      max(\n",
        "          [random_forest.predict_proba(xval)[:,0][_],\n",
        "           random_forest.predict_proba(xval)[:,1][_],\n",
        "           random_forest.predict_proba(xval)[:,2][_]]))"
      ],
      "execution_count": 0,
      "outputs": []
    },
    {
      "cell_type": "code",
      "metadata": {
        "id": "z0HOHH6KQ8Hb",
        "colab_type": "code",
        "colab": {}
      },
      "source": [
        "random_forest_pred_proba = forest"
      ],
      "execution_count": 0,
      "outputs": []
    },
    {
      "cell_type": "markdown",
      "metadata": {
        "id": "w2qfxfvvORSE",
        "colab_type": "text"
      },
      "source": [
        "\n",
        "\n",
        "---\n",
        "\n"
      ]
    },
    {
      "cell_type": "markdown",
      "metadata": {
        "id": "mVUOtPO7ORum",
        "colab_type": "text"
      },
      "source": [
        "###Graident Boosting"
      ]
    },
    {
      "cell_type": "code",
      "metadata": {
        "id": "LHarZlXBOUHt",
        "colab_type": "code",
        "colab": {
          "base_uri": "https://localhost:8080/",
          "height": 34
        },
        "outputId": "c2f7680b-7c3e-4bbc-bfa6-6d5cf8407b72"
      },
      "source": [
        "grad_boost = XGBClassifier(max_depth=2, n_estimators=25)\n",
        "grad_boost.fit(xtrain, ytrain)\n",
        "grad_boost.score(xval,yval)"
      ],
      "execution_count": 29,
      "outputs": [
        {
          "output_type": "execute_result",
          "data": {
            "text/plain": [
              "0.9927536231884058"
            ]
          },
          "metadata": {
            "tags": []
          },
          "execution_count": 29
        }
      ]
    },
    {
      "cell_type": "code",
      "metadata": {
        "id": "TjIcDd2OSQ_x",
        "colab_type": "code",
        "colab": {}
      },
      "source": [
        "grad_boost_pred = grad_boost.predict(xval)"
      ],
      "execution_count": 0,
      "outputs": []
    },
    {
      "cell_type": "code",
      "metadata": {
        "id": "W9IYQ39PTMcn",
        "colab_type": "code",
        "colab": {}
      },
      "source": [
        "boost = []\n",
        "for _ in range(len(grad_boost.predict_proba(xval)[:,0])):\n",
        "  boost.append(\n",
        "      max(\n",
        "          [grad_boost.predict_proba(xval)[:,0][_],\n",
        "           grad_boost.predict_proba(xval)[:,1][_],\n",
        "           grad_boost.predict_proba(xval)[:,2][_]]))"
      ],
      "execution_count": 0,
      "outputs": []
    },
    {
      "cell_type": "code",
      "metadata": {
        "id": "hK9qCousTSNT",
        "colab_type": "code",
        "colab": {}
      },
      "source": [
        "grad_boost_pred_proba = boost"
      ],
      "execution_count": 0,
      "outputs": []
    },
    {
      "cell_type": "markdown",
      "metadata": {
        "id": "3o02gn5fOUPO",
        "colab_type": "text"
      },
      "source": [
        "\n",
        "\n",
        "---\n",
        "\n"
      ]
    },
    {
      "cell_type": "markdown",
      "metadata": {
        "id": "4lQzNeb46nVs",
        "colab_type": "text"
      },
      "source": [
        "##Model Validation and Comparision"
      ]
    },
    {
      "cell_type": "code",
      "metadata": {
        "id": "2FcFLVPPK270",
        "colab_type": "code",
        "outputId": "9c42d5e8-baeb-427c-e62c-91e3265fa078",
        "colab": {
          "base_uri": "https://localhost:8080/",
          "height": 244
        }
      },
      "source": [
        "compare = pd.DataFrame(yval)\n",
        "\n",
        "\n",
        "compare['majority_class_pred'] = (compare['species']*0) + yval.mode()[0]\n",
        "compare['majority_class_pred_proba'] = (compare['species']*0)+1\n",
        "\n",
        "compare['stump_pred'] = stump_pred\n",
        "compare['stump_pred_proba'] = stump_pred_proba\n",
        "\n",
        "compare['logistic_pred'] = logistic_pred\n",
        "compare['logistic_pred_proba'] = logistic_pred_proba\n",
        "\n",
        "compare['random_forest_pred'] = random_forest_pred\n",
        "compare['random_forest_pred_proba'] = random_forest_pred_proba\n",
        "\n",
        "compare['grad_boost_pred'] = grad_boost_pred\n",
        "compare['grad_boost_pred_proba'] = grad_boost_pred_proba\n",
        "\n",
        "compare['Majority_Model_Correct'] = compare['species'] == compare['majority_class_pred']\n",
        "compare['Stump_Model_Correct'] = compare['species'] == compare['stump_pred']\n",
        "compare['Logistic_Model_Correct'] = compare['species'] == compare['logistic_pred']\n",
        "compare['Random_Forest_Correct'] = compare['species'] == compare['random_forest_pred']\n",
        "compare['Graident_Boost_Correct'] = compare['species'] == compare['grad_boost_pred']\n",
        "\n",
        "\n",
        "compare.head()"
      ],
      "execution_count": 33,
      "outputs": [
        {
          "output_type": "execute_result",
          "data": {
            "text/html": [
              "<div>\n",
              "<style scoped>\n",
              "    .dataframe tbody tr th:only-of-type {\n",
              "        vertical-align: middle;\n",
              "    }\n",
              "\n",
              "    .dataframe tbody tr th {\n",
              "        vertical-align: top;\n",
              "    }\n",
              "\n",
              "    .dataframe thead th {\n",
              "        text-align: right;\n",
              "    }\n",
              "</style>\n",
              "<table border=\"1\" class=\"dataframe\">\n",
              "  <thead>\n",
              "    <tr style=\"text-align: right;\">\n",
              "      <th></th>\n",
              "      <th>species</th>\n",
              "      <th>majority_class_pred</th>\n",
              "      <th>majority_class_pred_proba</th>\n",
              "      <th>stump_pred</th>\n",
              "      <th>stump_pred_proba</th>\n",
              "      <th>logistic_pred</th>\n",
              "      <th>logistic_pred_proba</th>\n",
              "      <th>random_forest_pred</th>\n",
              "      <th>random_forest_pred_proba</th>\n",
              "      <th>grad_boost_pred</th>\n",
              "      <th>grad_boost_pred_proba</th>\n",
              "      <th>Majority_Model_Correct</th>\n",
              "      <th>Stump_Model_Correct</th>\n",
              "      <th>Logistic_Model_Correct</th>\n",
              "      <th>Random_Forest_Correct</th>\n",
              "      <th>Graident_Boost_Correct</th>\n",
              "    </tr>\n",
              "  </thead>\n",
              "  <tbody>\n",
              "    <tr>\n",
              "      <th>559</th>\n",
              "      <td>1</td>\n",
              "      <td>3</td>\n",
              "      <td>1</td>\n",
              "      <td>1</td>\n",
              "      <td>1.0</td>\n",
              "      <td>1</td>\n",
              "      <td>0.960145</td>\n",
              "      <td>1</td>\n",
              "      <td>0.891115</td>\n",
              "      <td>1</td>\n",
              "      <td>0.907527</td>\n",
              "      <td>False</td>\n",
              "      <td>True</td>\n",
              "      <td>True</td>\n",
              "      <td>True</td>\n",
              "      <td>True</td>\n",
              "    </tr>\n",
              "    <tr>\n",
              "      <th>640</th>\n",
              "      <td>3</td>\n",
              "      <td>3</td>\n",
              "      <td>1</td>\n",
              "      <td>3</td>\n",
              "      <td>1.0</td>\n",
              "      <td>3</td>\n",
              "      <td>0.596936</td>\n",
              "      <td>3</td>\n",
              "      <td>0.923175</td>\n",
              "      <td>3</td>\n",
              "      <td>0.928019</td>\n",
              "      <td>True</td>\n",
              "      <td>True</td>\n",
              "      <td>True</td>\n",
              "      <td>True</td>\n",
              "      <td>True</td>\n",
              "    </tr>\n",
              "    <tr>\n",
              "      <th>817</th>\n",
              "      <td>1</td>\n",
              "      <td>3</td>\n",
              "      <td>1</td>\n",
              "      <td>1</td>\n",
              "      <td>1.0</td>\n",
              "      <td>1</td>\n",
              "      <td>0.902621</td>\n",
              "      <td>1</td>\n",
              "      <td>0.816148</td>\n",
              "      <td>1</td>\n",
              "      <td>0.907527</td>\n",
              "      <td>False</td>\n",
              "      <td>True</td>\n",
              "      <td>True</td>\n",
              "      <td>True</td>\n",
              "      <td>True</td>\n",
              "    </tr>\n",
              "    <tr>\n",
              "      <th>915</th>\n",
              "      <td>1</td>\n",
              "      <td>3</td>\n",
              "      <td>1</td>\n",
              "      <td>1</td>\n",
              "      <td>1.0</td>\n",
              "      <td>1</td>\n",
              "      <td>0.571606</td>\n",
              "      <td>1</td>\n",
              "      <td>0.891115</td>\n",
              "      <td>1</td>\n",
              "      <td>0.907527</td>\n",
              "      <td>False</td>\n",
              "      <td>True</td>\n",
              "      <td>True</td>\n",
              "      <td>True</td>\n",
              "      <td>True</td>\n",
              "    </tr>\n",
              "    <tr>\n",
              "      <th>459</th>\n",
              "      <td>1</td>\n",
              "      <td>3</td>\n",
              "      <td>1</td>\n",
              "      <td>1</td>\n",
              "      <td>1.0</td>\n",
              "      <td>1</td>\n",
              "      <td>0.934369</td>\n",
              "      <td>1</td>\n",
              "      <td>0.891115</td>\n",
              "      <td>1</td>\n",
              "      <td>0.907527</td>\n",
              "      <td>False</td>\n",
              "      <td>True</td>\n",
              "      <td>True</td>\n",
              "      <td>True</td>\n",
              "      <td>True</td>\n",
              "    </tr>\n",
              "  </tbody>\n",
              "</table>\n",
              "</div>"
            ],
            "text/plain": [
              "     species  majority_class_pred  majority_class_pred_proba  stump_pred  \\\n",
              "559        1                    3                          1           1   \n",
              "640        3                    3                          1           3   \n",
              "817        1                    3                          1           1   \n",
              "915        1                    3                          1           1   \n",
              "459        1                    3                          1           1   \n",
              "\n",
              "     stump_pred_proba  logistic_pred  logistic_pred_proba  random_forest_pred  \\\n",
              "559               1.0              1             0.960145                   1   \n",
              "640               1.0              3             0.596936                   3   \n",
              "817               1.0              1             0.902621                   1   \n",
              "915               1.0              1             0.571606                   1   \n",
              "459               1.0              1             0.934369                   1   \n",
              "\n",
              "     random_forest_pred_proba  grad_boost_pred  grad_boost_pred_proba  \\\n",
              "559                  0.891115                1               0.907527   \n",
              "640                  0.923175                3               0.928019   \n",
              "817                  0.816148                1               0.907527   \n",
              "915                  0.891115                1               0.907527   \n",
              "459                  0.891115                1               0.907527   \n",
              "\n",
              "     Majority_Model_Correct  Stump_Model_Correct  Logistic_Model_Correct  \\\n",
              "559                   False                 True                    True   \n",
              "640                    True                 True                    True   \n",
              "817                   False                 True                    True   \n",
              "915                   False                 True                    True   \n",
              "459                   False                 True                    True   \n",
              "\n",
              "     Random_Forest_Correct  Graident_Boost_Correct  \n",
              "559                   True                    True  \n",
              "640                   True                    True  \n",
              "817                   True                    True  \n",
              "915                   True                    True  \n",
              "459                   True                    True  "
            ]
          },
          "metadata": {
            "tags": []
          },
          "execution_count": 33
        }
      ]
    },
    {
      "cell_type": "markdown",
      "metadata": {
        "id": "jY0Y_Do1Ntcx",
        "colab_type": "text"
      },
      "source": [
        "\n",
        "\n",
        "---\n",
        "\n"
      ]
    },
    {
      "cell_type": "markdown",
      "metadata": {
        "id": "NVVYnzOWK7bt",
        "colab_type": "text"
      },
      "source": [
        "###Model Prediction Value Counts"
      ]
    },
    {
      "cell_type": "code",
      "metadata": {
        "id": "4R5EmY-oTsEg",
        "colab_type": "code",
        "colab": {
          "base_uri": "https://localhost:8080/",
          "height": 1601
        },
        "outputId": "ec053ced-878e-4d2e-e593-f9bac8651147"
      },
      "source": [
        "Predictions = ['species',\n",
        "               'majority_class_pred',\n",
        "               'stump_pred', \n",
        "               'logistic_pred',\n",
        "               'random_forest_pred',\n",
        "               'grad_boost_pred']\n",
        "\n",
        "for _ in Predictions:\n",
        "  compare[_].value_counts(normalize=True).plot.barh(color='red')\n",
        "  plt.title(_)\n",
        "  plt.show();\n"
      ],
      "execution_count": 34,
      "outputs": [
        {
          "output_type": "display_data",
          "data": {
            "image/png": "[encoded data removed]",
            "text/plain": [
              "<Figure size 432x288 with 1 Axes>"
            ]
          },
          "metadata": {
            "tags": []
          }
        },
        {
          "output_type": "display_data",
          "data": {
            "image/png": "[encoded data removed]",
            "text/plain": [
              "<Figure size 432x288 with 1 Axes>"
            ]
          },
          "metadata": {
            "tags": []
          }
        },
        {
          "output_type": "display_data",
          "data": {
            "image/png": "[encoded data removed]",
            "text/plain": [
              "<Figure size 432x288 with 1 Axes>"
            ]
          },
          "metadata": {
            "tags": []
          }
        },
        {
          "output_type": "display_data",
          "data": {
            "image/png": "[encoded data removed]",
            "text/plain": [
              "<Figure size 432x288 with 1 Axes>"
            ]
          },
          "metadata": {
            "tags": []
          }
        },
        {
          "output_type": "display_data",
          "data": {
            "image/png": "[encoded data removed]",
            "text/plain": [
              "<Figure size 432x288 with 1 Axes>"
            ]
          },
          "metadata": {
            "tags": []
          }
        },
        {
          "output_type": "display_data",
          "data": {
            "image/png": "[encoded data removed]",
            "text/plain": [
              "<Figure size 432x288 with 1 Axes>"
            ]
          },
          "metadata": {
            "tags": []
          }
        }
      ]
    },
    {
      "cell_type": "markdown",
      "metadata": {
        "id": "eTwgT4_QLDYa",
        "colab_type": "text"
      },
      "source": [
        "\n",
        "\n",
        "---\n",
        "\n"
      ]
    },
    {
      "cell_type": "markdown",
      "metadata": {
        "id": "RgJazDqOLCZQ",
        "colab_type": "text"
      },
      "source": [
        "###Model Correctness Counts"
      ]
    },
    {
      "cell_type": "code",
      "metadata": {
        "id": "WCSRwi3-UTp7",
        "colab_type": "code",
        "colab": {
          "base_uri": "https://localhost:8080/",
          "height": 1337
        },
        "outputId": "b5ca2565-4d58-4cc5-cc93-f6dae79c415e"
      },
      "source": [
        "Correct = ['Majority_Model_Correct',\n",
        "           'Stump_Model_Correct',\n",
        "           'Logistic_Model_Correct',\n",
        "           'Random_Forest_Correct',\n",
        "           'Graident_Boost_Correct']\n",
        "\n",
        "for _ in Correct:\n",
        "  compare[_].value_counts(normalize=True).plot.barh(color='red')\n",
        "  plt.title(_)\n",
        "  plt.show();"
      ],
      "execution_count": 35,
      "outputs": [
        {
          "output_type": "display_data",
          "data": {
            "image/png": "[encoded data removed]",
            "text/plain": [
              "<Figure size 432x288 with 1 Axes>"
            ]
          },
          "metadata": {
            "tags": []
          }
        },
        {
          "output_type": "display_data",
          "data": {
            "image/png": "[encoded data removed]",
            "text/plain": [
              "<Figure size 432x288 with 1 Axes>"
            ]
          },
          "metadata": {
            "tags": []
          }
        },
        {
          "output_type": "display_data",
          "data": {
            "image/png": "[encoded data removed]",
            "text/plain": [
              "<Figure size 432x288 with 1 Axes>"
            ]
          },
          "metadata": {
            "tags": []
          }
        },
        {
          "output_type": "display_data",
          "data": {
            "image/png": "[encoded data removed]",
            "text/plain": [
              "<Figure size 432x288 with 1 Axes>"
            ]
          },
          "metadata": {
            "tags": []
          }
        },
        {
          "output_type": "display_data",
          "data": {
            "image/png": "[encoded data removed]",
            "text/plain": [
              "<Figure size 432x288 with 1 Axes>"
            ]
          },
          "metadata": {
            "tags": []
          }
        }
      ]
    },
    {
      "cell_type": "markdown",
      "metadata": {
        "id": "axzKey8ULVFi",
        "colab_type": "text"
      },
      "source": [
        "\n",
        "\n",
        "---\n",
        "\n"
      ]
    },
    {
      "cell_type": "markdown",
      "metadata": {
        "id": "bJsm1_zLLbMH",
        "colab_type": "text"
      },
      "source": [
        "###Model Prediction Probability Distributions"
      ]
    },
    {
      "cell_type": "code",
      "metadata": {
        "id": "9lZ6KiSKUukw",
        "colab_type": "code",
        "colab": {
          "base_uri": "https://localhost:8080/",
          "height": 1500
        },
        "outputId": "b9800ea8-4fc3-4e5e-d36c-33cfb1c4ecee"
      },
      "source": [
        "Probabilities = ['majority_class_pred_proba',\n",
        "                 'stump_pred_proba',\n",
        "                 'logistic_pred_proba',\n",
        "                 'random_forest_pred_proba',\n",
        "                 'grad_boost_pred_proba']\n",
        "\n",
        "for _ in Probabilities:\n",
        "  sns.distplot(compare[_])\n",
        "  plt.title(_)\n",
        "  plt.show();"
      ],
      "execution_count": 36,
      "outputs": [
        {
          "output_type": "stream",
          "text": [
            "/usr/local/lib/python3.6/dist-packages/statsmodels/nonparametric/kde.py:488: RuntimeWarning: invalid value encountered in true_divide\n",
            "  binned = fast_linbin(X, a, b, gridsize) / (delta * nobs)\n",
            "/usr/local/lib/python3.6/dist-packages/statsmodels/nonparametric/kdetools.py:34: RuntimeWarning: invalid value encountered in double_scalars\n",
            "  FAC1 = 2*(np.pi*bw/RANGE)**2\n"
          ],
          "name": "stderr"
        },
        {
          "output_type": "display_data",
          "data": {
            "image/png": "[encoded data removed]",
            "text/plain": [
              "<Figure size 432x288 with 1 Axes>"
            ]
          },
          "metadata": {
            "tags": []
          }
        },
        {
          "output_type": "display_data",
          "data": {
            "image/png": "[encoded data removed]",
            "text/plain": [
              "<Figure size 432x288 with 1 Axes>"
            ]
          },
          "metadata": {
            "tags": []
          }
        },
        {
          "output_type": "display_data",
          "data": {
            "image/png": "[encoded data removed]",
            "text/plain": [
              "<Figure size 432x288 with 1 Axes>"
            ]
          },
          "metadata": {
            "tags": []
          }
        },
        {
          "output_type": "display_data",
          "data": {
            "image/png": "[encoded data removed]",
            "text/plain": [
              "<Figure size 432x288 with 1 Axes>"
            ]
          },
          "metadata": {
            "tags": []
          }
        },
        {
          "output_type": "display_data",
          "data": {
            "image/png": "[encoded data removed]",
            "text/plain": [
              "<Figure size 432x288 with 1 Axes>"
            ]
          },
          "metadata": {
            "tags": []
          }
        }
      ]
    },
    {
      "cell_type": "markdown",
      "metadata": {
        "id": "80eCI6ECLgCY",
        "colab_type": "text"
      },
      "source": [
        "\n",
        "\n",
        "---\n",
        "\n"
      ]
    },
    {
      "cell_type": "markdown",
      "metadata": {
        "id": "SUaym0ORLgec",
        "colab_type": "text"
      },
      "source": [
        "###Model Confusion Matrices"
      ]
    },
    {
      "cell_type": "code",
      "metadata": {
        "id": "pQOJEJEQVSPk",
        "colab_type": "code",
        "colab": {
          "base_uri": "https://localhost:8080/",
          "height": 3289
        },
        "outputId": "44d8b5d3-2397-4088-abd0-5be6bfb90a39"
      },
      "source": [
        "for _ in Predictions:\n",
        "  print(classification_report(yval, compare[_], target_names=['Iris-versicolor', 'Iris-setosa', 'Iris-virginica']))\n",
        "  con_matrix = pd.DataFrame(confusion_matrix(yval, compare[_]), \n",
        "             columns=['Predicted Setosa', 'Predicted Verginica', 'Predicted Versicolor'], \n",
        "             index=['Actual Setosa', 'Actual Verginica', 'Actual Versicolor'])\n",
        "  sns.heatmap(data=con_matrix, cmap='cool');\n",
        "  plt.title(_)\n",
        "  plt.show();"
      ],
      "execution_count": 37,
      "outputs": [
        {
          "output_type": "stream",
          "text": [
            "                 precision    recall  f1-score   support\n",
            "\n",
            "Iris-versicolor       1.00      1.00      1.00        92\n",
            "    Iris-setosa       1.00      1.00      1.00        90\n",
            " Iris-virginica       1.00      1.00      1.00        94\n",
            "\n",
            "      micro avg       1.00      1.00      1.00       276\n",
            "      macro avg       1.00      1.00      1.00       276\n",
            "   weighted avg       1.00      1.00      1.00       276\n",
            "\n"
          ],
          "name": "stdout"
        },
        {
          "output_type": "display_data",
          "data": {
            "image/png": "[encoded data removed]",
            "text/plain": [
              "<Figure size 432x288 with 2 Axes>"
            ]
          },
          "metadata": {
            "tags": []
          }
        },
        {
          "output_type": "stream",
          "text": [
            "/usr/local/lib/python3.6/dist-packages/sklearn/metrics/classification.py:1143: UndefinedMetricWarning: Precision and F-score are ill-defined and being set to 0.0 in labels with no predicted samples.\n",
            "  'precision', 'predicted', average, warn_for)\n",
            "/usr/local/lib/python3.6/dist-packages/sklearn/metrics/classification.py:1143: UndefinedMetricWarning: Precision and F-score are ill-defined and being set to 0.0 in labels with no predicted samples.\n",
            "  'precision', 'predicted', average, warn_for)\n",
            "/usr/local/lib/python3.6/dist-packages/sklearn/metrics/classification.py:1143: UndefinedMetricWarning: Precision and F-score are ill-defined and being set to 0.0 in labels with no predicted samples.\n",
            "  'precision', 'predicted', average, warn_for)\n"
          ],
          "name": "stderr"
        },
        {
          "output_type": "stream",
          "text": [
            "                 precision    recall  f1-score   support\n",
            "\n",
            "Iris-versicolor       0.00      0.00      0.00        92\n",
            "    Iris-setosa       0.00      0.00      0.00        90\n",
            " Iris-virginica       0.34      1.00      0.51        94\n",
            "\n",
            "      micro avg       0.34      0.34      0.34       276\n",
            "      macro avg       0.11      0.33      0.17       276\n",
            "   weighted avg       0.12      0.34      0.17       276\n",
            "\n"
          ],
          "name": "stdout"
        },
        {
          "output_type": "display_data",
          "data": {
            "image/png": "[encoded data removed]",
            "text/plain": [
              "<Figure size 432x288 with 2 Axes>"
            ]
          },
          "metadata": {
            "tags": []
          }
        },
        {
          "output_type": "stream",
          "text": [
            "                 precision    recall  f1-score   support\n",
            "\n",
            "Iris-versicolor       1.00      0.98      0.99        92\n",
            "    Iris-setosa       1.00      1.00      1.00        90\n",
            " Iris-virginica       0.98      1.00      0.99        94\n",
            "\n",
            "      micro avg       0.99      0.99      0.99       276\n",
            "      macro avg       0.99      0.99      0.99       276\n",
            "   weighted avg       0.99      0.99      0.99       276\n",
            "\n"
          ],
          "name": "stdout"
        },
        {
          "output_type": "display_data",
          "data": {
            "image/png": "[encoded data removed]",
            "text/plain": [
              "<Figure size 432x288 with 2 Axes>"
            ]
          },
          "metadata": {
            "tags": []
          }
        },
        {
          "output_type": "stream",
          "text": [
            "                 precision    recall  f1-score   support\n",
            "\n",
            "Iris-versicolor       0.92      0.98      0.95        92\n",
            "    Iris-setosa       1.00      1.00      1.00        90\n",
            " Iris-virginica       0.98      0.91      0.95        94\n",
            "\n",
            "      micro avg       0.96      0.96      0.96       276\n",
            "      macro avg       0.97      0.96      0.96       276\n",
            "   weighted avg       0.97      0.96      0.96       276\n",
            "\n"
          ],
          "name": "stdout"
        },
        {
          "output_type": "display_data",
          "data": {
            "image/png": "[encoded data removed]",
            "text/plain": [
              "<Figure size 432x288 with 2 Axes>"
            ]
          },
          "metadata": {
            "tags": []
          }
        },
        {
          "output_type": "stream",
          "text": [
            "                 precision    recall  f1-score   support\n",
            "\n",
            "Iris-versicolor       0.89      0.98      0.93        92\n",
            "    Iris-setosa       1.00      1.00      1.00        90\n",
            " Iris-virginica       0.98      0.88      0.93        94\n",
            "\n",
            "      micro avg       0.95      0.95      0.95       276\n",
            "      macro avg       0.96      0.95      0.95       276\n",
            "   weighted avg       0.96      0.95      0.95       276\n",
            "\n"
          ],
          "name": "stdout"
        },
        {
          "output_type": "display_data",
          "data": {
            "image/png": "[encoded data removed]",
            "text/plain": [
              "<Figure size 432x288 with 2 Axes>"
            ]
          },
          "metadata": {
            "tags": []
          }
        },
        {
          "output_type": "stream",
          "text": [
            "                 precision    recall  f1-score   support\n",
            "\n",
            "Iris-versicolor       1.00      0.98      0.99        92\n",
            "    Iris-setosa       1.00      1.00      1.00        90\n",
            " Iris-virginica       0.98      1.00      0.99        94\n",
            "\n",
            "      micro avg       0.99      0.99      0.99       276\n",
            "      macro avg       0.99      0.99      0.99       276\n",
            "   weighted avg       0.99      0.99      0.99       276\n",
            "\n"
          ],
          "name": "stdout"
        },
        {
          "output_type": "display_data",
          "data": {
            "image/png": "[encoded data removed]",
            "text/plain": [
              "<Figure size 432x288 with 2 Axes>"
            ]
          },
          "metadata": {
            "tags": []
          }
        }
      ]
    },
    {
      "cell_type": "markdown",
      "metadata": {
        "id": "90Dv4KKj7YcP",
        "colab_type": "text"
      },
      "source": [
        "\n",
        "\n",
        "---\n",
        "\n"
      ]
    }
  ]
}