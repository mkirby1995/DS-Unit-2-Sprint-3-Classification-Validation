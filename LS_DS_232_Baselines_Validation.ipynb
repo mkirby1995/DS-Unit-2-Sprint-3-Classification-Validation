{
  "nbformat": 4,
  "nbformat_minor": 0,
  "metadata": {
    "colab": {
      "name": "Copy of LS_DS_232_Baselines_Validation.ipynb",
      "version": "0.3.2",
      "provenance": [],
      "include_colab_link": true
    },
    "language_info": {
      "codemirror_mode": {
        "name": "ipython",
        "version": 3
      },
      "file_extension": ".py",
      "mimetype": "text/x-python",
      "name": "python",
      "nbconvert_exporter": "python",
      "pygments_lexer": "ipython3",
      "version": "3.7.1"
    },
    "kernelspec": {
      "display_name": "Python 3",
      "language": "python",
      "name": "python3"
    }
  },
  "cells": [
    {
      "cell_type": "markdown",
      "metadata": {
        "id": "view-in-github",
        "colab_type": "text"
      },
      "source": [
        "<a href=\"https://colab.research.google.com/github/mkirby1995/DS-Unit-2-Sprint-3-Classification-Validation/blob/master/LS_DS_232_Baselines_Validation.ipynb\" target=\"_parent\"><img src=\"https://colab.research.google.com/assets/colab-badge.svg\" alt=\"Open In Colab\"/></a>"
      ]
    },
    {
      "cell_type": "markdown",
      "metadata": {
        "id": "-9oo9jTACsNg",
        "colab_type": "text"
      },
      "source": [
        "_Lambda School Data Science — Classification & Validation_ \n",
        "\n",
        "# Baselines & Validation\n",
        "\n",
        "Objectives\n",
        "- Train/Validate/Test split\n",
        "- Cross-Validation\n",
        "- Begin with baselines"
      ]
    },
    {
      "cell_type": "markdown",
      "metadata": {
        "id": "bk5fz7X8CsNn",
        "colab_type": "text"
      },
      "source": [
        "## Weather data —  mean baseline\n",
        "\n",
        "Let's try baselines for regression.\n",
        "\n",
        "You can [get Past Weather by Zip Code from Climate.gov](https://www.climate.gov/maps-data/dataset/past-weather-zip-code-data-table). I downloaded the data for my town: Normal, Illinois."
      ]
    },
    {
      "cell_type": "code",
      "metadata": {
        "id": "jc6DE4pfCsNq",
        "colab_type": "code",
        "outputId": "9395dce8-56e3-4189-c4df-ff77a4222603",
        "colab": {
          "base_uri": "https://localhost:8080/",
          "height": 285
        }
      },
      "source": [
        "%matplotlib inline\n",
        "import matplotlib.pyplot as plt\n",
        "import pandas as pd \n",
        "\n",
        "url = 'https://raw.githubusercontent.com/LambdaSchool/DS-Unit-2-Sprint-3-Classification-Validation/master/module2-baselines-validation/weather-normal-il.csv'\n",
        "weather = pd.read_csv(url, parse_dates=['DATE']).set_index('DATE')\n",
        "weather['2014-05':'2019-05'].plot(y='TMAX')\n",
        "plt.title('Daily high temperature in Normal, IL');"
      ],
      "execution_count": 0,
      "outputs": [
        {
          "output_type": "display_data",
          "data": {
            "image/png": "[encoded data removed]",
            "text/plain": [
              "<Figure size 432x288 with 1 Axes>"
            ]
          },
          "metadata": {
            "tags": []
          }
        }
      ]
    },
    {
      "cell_type": "markdown",
      "metadata": {
        "id": "Gj4JSMolCsN2",
        "colab_type": "text"
      },
      "source": [
        "Over the years, across the seasons, the average daily high temperature in my town is about 63 degrees."
      ]
    },
    {
      "cell_type": "code",
      "metadata": {
        "id": "b1b9N2TaCsN4",
        "colab_type": "code",
        "outputId": "9d6f08fd-1c73-4887-f251-c1acecc0e477",
        "colab": {
          "base_uri": "https://localhost:8080/",
          "height": 35
        }
      },
      "source": [
        "weather['TMAX'].mean()"
      ],
      "execution_count": 0,
      "outputs": [
        {
          "output_type": "execute_result",
          "data": {
            "text/plain": [
              "62.51874226107839"
            ]
          },
          "metadata": {
            "tags": []
          },
          "execution_count": 2
        }
      ]
    },
    {
      "cell_type": "markdown",
      "metadata": {
        "id": "8S0BAqUhCsN8",
        "colab_type": "text"
      },
      "source": [
        "Remember from [the preread:](https://github.com/LambdaSchool/DS-Unit-2-Sprint-3-Classification-Validation/blob/master/module2-baselines-validation/model-validation-preread.md#what-does-baseline-mean) \"A baseline for regression can be the mean of the training labels.\""
      ]
    },
    {
      "cell_type": "markdown",
      "metadata": {
        "id": "Xf_baXwBCsN9",
        "colab_type": "text"
      },
      "source": [
        "If I predicted that every day, the high will be 63 degrees, I'd be off by about 19 degrees on average."
      ]
    },
    {
      "cell_type": "code",
      "metadata": {
        "id": "TzTymEFpCsN-",
        "colab_type": "code",
        "outputId": "affb16ad-953b-4d7f-d446-c0c5d08cc0e5",
        "colab": {
          "base_uri": "https://localhost:8080/",
          "height": 35
        }
      },
      "source": [
        "from sklearn.metrics import mean_absolute_error\n",
        "predicted = [weather['TMAX'].mean()] * len(weather)  \n",
        "mean_absolute_error(weather['TMAX'], predicted)"
      ],
      "execution_count": 0,
      "outputs": [
        {
          "output_type": "execute_result",
          "data": {
            "text/plain": [
              "18.687693151466384"
            ]
          },
          "metadata": {
            "tags": []
          },
          "execution_count": 3
        }
      ]
    },
    {
      "cell_type": "markdown",
      "metadata": {
        "id": "QJ34Sl5YCsOD",
        "colab_type": "text"
      },
      "source": [
        "But, we can get a better baseline here: \"A baseline for time-series regressions can be the value from the previous timestep.\"\n",
        "\n",
        "*Data Science for Business* explains, \n",
        "\n",
        "> Weather forecasters have two simple—but not simplistic—baseline models that they compare against. ***One (persistence) predicts that the weather tomorrow is going to be whatever it was today.*** The other (climatology) predicts whatever the average historical weather has been on this day from prior years. Each model performs considerably better than random guessing, and both are so easy to compute that they make natural baselines of comparison. Any new, more complex model must beat these."
      ]
    },
    {
      "cell_type": "markdown",
      "metadata": {
        "id": "rET7vIWDCsOG",
        "colab_type": "text"
      },
      "source": [
        "Let's predict that the weather tomorrow is going to be whatever it was today. Which is another way of saying that the weather today is going to be whatever it was yesterday.\n",
        "\n",
        "We can engineer this feature with one line of code, using the pandas [`shift`](https://pandas.pydata.org/pandas-docs/stable/generated/pandas.DataFrame.shift.html) function.\n",
        "\n",
        "This new baseline is off by less than 6 degress on average."
      ]
    },
    {
      "cell_type": "code",
      "metadata": {
        "scrolled": true,
        "id": "j9tCH-84CsOH",
        "colab_type": "code",
        "outputId": "c77fe3a1-779d-4554-f277-9dbd45d0550a",
        "colab": {
          "base_uri": "https://localhost:8080/",
          "height": 35
        }
      },
      "source": [
        "weather['TMAX_yesterday'] = weather.TMAX.shift(1)\n",
        "weather = weather.dropna()  # Drops the first date, because it doesn't have a \"yesterday\"\n",
        "mean_absolute_error(weather.TMAX, weather.TMAX_yesterday)"
      ],
      "execution_count": 0,
      "outputs": [
        {
          "output_type": "execute_result",
          "data": {
            "text/plain": [
              "5.53609756097561"
            ]
          },
          "metadata": {
            "tags": []
          },
          "execution_count": 4
        }
      ]
    },
    {
      "cell_type": "markdown",
      "metadata": {
        "id": "ndcIEW6NCsOL",
        "colab_type": "text"
      },
      "source": [
        "I applied this same concept for [my first submission to the Kaggle Instacart competition.](https://github.com/rrherr/springboard/blob/master/Kaggle%20Instacart%20first%20submission.ipynb)"
      ]
    },
    {
      "cell_type": "markdown",
      "metadata": {
        "id": "fvwH3U49CsOM",
        "colab_type": "text"
      },
      "source": [
        "## Bank Marketing — majority class baseline\n",
        "\n",
        "https://archive.ics.uci.edu/ml/datasets/Bank+Marketing\n",
        "\n",
        ">The data is related with direct marketing campaigns of a Portuguese banking institution. The marketing campaigns were based on phone calls. Often, more than one contact to the same client was required, in order to access if the product (bank term deposit) would be ('yes') or not ('no') subscribed. \n",
        "\n",
        ">Output variable (desired target):  \n",
        ">y - has the client subscribed a term deposit? (binary: 'yes','no')\n",
        "\n",
        ">bank-additional-full.csv with all examples (41188) and 20 inputs, ordered by date (from May 2008 to November 2010)"
      ]
    },
    {
      "cell_type": "markdown",
      "metadata": {
        "id": "EPV8odWcCsON",
        "colab_type": "text"
      },
      "source": [
        "Get and read the data"
      ]
    },
    {
      "cell_type": "code",
      "metadata": {
        "id": "APA3INRzCsOO",
        "colab_type": "code",
        "outputId": "dea02924-0abd-4e51-b820-601d9606dc99",
        "colab": {
          "base_uri": "https://localhost:8080/",
          "height": 215
        }
      },
      "source": [
        "!wget https://archive.ics.uci.edu/ml/machine-learning-databases/00222/bank-additional.zip"
      ],
      "execution_count": 0,
      "outputs": [
        {
          "output_type": "stream",
          "text": [
            "--2019-05-08 00:37:30--  https://archive.ics.uci.edu/ml/machine-learning-databases/00222/bank-additional.zip\n",
            "Resolving archive.ics.uci.edu (archive.ics.uci.edu)... 128.195.10.252\n",
            "Connecting to archive.ics.uci.edu (archive.ics.uci.edu)|128.195.10.252|:443... connected.\n",
            "HTTP request sent, awaiting response... 200 OK\n",
            "Length: 444572 (434K) [application/x-httpd-php]\n",
            "Saving to: ‘bank-additional.zip’\n",
            "\n",
            "\rbank-additional.zip   0%[                    ]       0  --.-KB/s               \rbank-additional.zip 100%[===================>] 434.15K  --.-KB/s    in 0.1s    \n",
            "\n",
            "2019-05-08 00:37:30 (3.00 MB/s) - ‘bank-additional.zip’ saved [444572/444572]\n",
            "\n"
          ],
          "name": "stdout"
        }
      ]
    },
    {
      "cell_type": "code",
      "metadata": {
        "id": "Y7ahjN75CsOT",
        "colab_type": "code",
        "outputId": "4de595e3-5ef4-46d1-adf1-d2753fac59b7",
        "colab": {
          "base_uri": "https://localhost:8080/",
          "height": 215
        }
      },
      "source": [
        "!unzip bank-additional.zip"
      ],
      "execution_count": 0,
      "outputs": [
        {
          "output_type": "stream",
          "text": [
            "Archive:  bank-additional.zip\n",
            "   creating: bank-additional/\n",
            "  inflating: bank-additional/.DS_Store  \n",
            "   creating: __MACOSX/\n",
            "   creating: __MACOSX/bank-additional/\n",
            "  inflating: __MACOSX/bank-additional/._.DS_Store  \n",
            "  inflating: bank-additional/.Rhistory  \n",
            "  inflating: bank-additional/bank-additional-full.csv  \n",
            "  inflating: bank-additional/bank-additional-names.txt  \n",
            "  inflating: bank-additional/bank-additional.csv  \n",
            "  inflating: __MACOSX/._bank-additional  \n"
          ],
          "name": "stdout"
        }
      ]
    },
    {
      "cell_type": "code",
      "metadata": {
        "id": "gl920-MaCsOZ",
        "colab_type": "code",
        "colab": {}
      },
      "source": [
        "bank = pd.read_csv('bank-additional/bank-additional-full.csv', sep=';')"
      ],
      "execution_count": 0,
      "outputs": []
    },
    {
      "cell_type": "markdown",
      "metadata": {
        "id": "s30O_blpCsOc",
        "colab_type": "text"
      },
      "source": [
        "Assign to X and y"
      ]
    },
    {
      "cell_type": "code",
      "metadata": {
        "id": "btzd0YYgCsOe",
        "colab_type": "code",
        "colab": {}
      },
      "source": [
        "X = bank.drop(columns='y')\n",
        "y = bank['y'] == 'yes'"
      ],
      "execution_count": 0,
      "outputs": []
    },
    {
      "cell_type": "markdown",
      "metadata": {
        "id": "8UspUADrCsOm",
        "colab_type": "text"
      },
      "source": [
        "## 3-way split: Train / Validation / Test "
      ]
    },
    {
      "cell_type": "markdown",
      "metadata": {
        "id": "lkQwCZmXCsOn",
        "colab_type": "text"
      },
      "source": [
        "We know how to do a _two-way split_, with the [**`sklearn.model_selection.train_test_split`**](https://scikit-learn.org/stable/modules/generated/sklearn.model_selection.train_test_split.html) function:"
      ]
    },
    {
      "cell_type": "code",
      "metadata": {
        "id": "SZtqjAojCsOo",
        "colab_type": "code",
        "colab": {}
      },
      "source": [
        "from sklearn.model_selection import train_test_split\n",
        "\n",
        "X_train, X_test, y_train, y_test = train_test_split(\n",
        "    X, y, test_size=0.2, random_state=42, stratify=y)"
      ],
      "execution_count": 0,
      "outputs": []
    },
    {
      "cell_type": "markdown",
      "metadata": {
        "id": "32yfRGjBCsOs",
        "colab_type": "text"
      },
      "source": [
        "How can we get from a two-way split, to a three-way split?\n",
        "\n",
        "We can use the same function again, to split the training data into training and validation data."
      ]
    },
    {
      "cell_type": "code",
      "metadata": {
        "id": "4k7zFzLvCsOt",
        "colab_type": "code",
        "colab": {}
      },
      "source": [
        "X_train, X_val, y_train, y_val = train_test_split(\n",
        "    X_train, y_train, test_size=0.3, random_state=42, stratify=y_train)"
      ],
      "execution_count": 0,
      "outputs": []
    },
    {
      "cell_type": "code",
      "metadata": {
        "id": "-4yv95mICsOw",
        "colab_type": "code",
        "outputId": "1ad661ec-f357-4758-e2e2-8d0ec008406b",
        "colab": {
          "base_uri": "https://localhost:8080/",
          "height": 35
        }
      },
      "source": [
        "X_train.shape, X_val.shape, X_test.shape, y_train.shape, y_val.shape, y_test.shape"
      ],
      "execution_count": 0,
      "outputs": [
        {
          "output_type": "execute_result",
          "data": {
            "text/plain": [
              "((23065, 20), (9885, 20), (8238, 20), (23065,), (9885,), (8238,))"
            ]
          },
          "metadata": {
            "tags": []
          },
          "execution_count": 11
        }
      ]
    },
    {
      "cell_type": "markdown",
      "metadata": {
        "id": "WtzVpMarCsO5",
        "colab_type": "text"
      },
      "source": [
        "## Majority class baseline"
      ]
    },
    {
      "cell_type": "markdown",
      "metadata": {
        "id": "tsh7CBlzCsO-",
        "colab_type": "text"
      },
      "source": [
        "Determine the majority class:"
      ]
    },
    {
      "cell_type": "code",
      "metadata": {
        "id": "LEHd63rxCsPE",
        "colab_type": "code",
        "outputId": "7fc92008-d729-493a-99d9-a92ee2e50840",
        "colab": {
          "base_uri": "https://localhost:8080/",
          "height": 71
        }
      },
      "source": [
        "y_train.value_counts(normalize=True)"
      ],
      "execution_count": 0,
      "outputs": [
        {
          "output_type": "execute_result",
          "data": {
            "text/plain": [
              "False    0.887362\n",
              "True     0.112638\n",
              "Name: y, dtype: float64"
            ]
          },
          "metadata": {
            "tags": []
          },
          "execution_count": 12
        }
      ]
    },
    {
      "cell_type": "markdown",
      "metadata": {
        "id": "4zXbmdP4CsPQ",
        "colab_type": "text"
      },
      "source": [
        "What if we guessed the majority class for every prediction?"
      ]
    },
    {
      "cell_type": "code",
      "metadata": {
        "id": "7sOHymGCCsPR",
        "colab_type": "code",
        "colab": {}
      },
      "source": [
        "majority_clss = y_train.mode()[0]\n",
        "y_pred = [majority_clss] * len(y_val)"
      ],
      "execution_count": 0,
      "outputs": []
    },
    {
      "cell_type": "code",
      "metadata": {
        "id": "fgqJUeksNrB9",
        "colab_type": "code",
        "outputId": "d16479c1-9ce4-4c69-84e6-23456bb52ee4",
        "colab": {
          "base_uri": "https://localhost:8080/",
          "height": 35
        }
      },
      "source": [
        "len(y_pred)"
      ],
      "execution_count": 0,
      "outputs": [
        {
          "output_type": "execute_result",
          "data": {
            "text/plain": [
              "9885"
            ]
          },
          "metadata": {
            "tags": []
          },
          "execution_count": 14
        }
      ]
    },
    {
      "cell_type": "markdown",
      "metadata": {
        "id": "QC64-GtDCsPX",
        "colab_type": "text"
      },
      "source": [
        "#### [`sklearn.metrics.accuracy_score`](https://scikit-learn.org/stable/modules/generated/sklearn.metrics.accuracy_score.html)\n",
        "\n",
        "Baseline accuracy by guessing the majority class for every prediction:"
      ]
    },
    {
      "cell_type": "code",
      "metadata": {
        "id": "BB8RpG1cCsPZ",
        "colab_type": "code",
        "outputId": "5323ae44-6626-41a3-8872-b1f5d4cbf130",
        "colab": {
          "base_uri": "https://localhost:8080/",
          "height": 35
        }
      },
      "source": [
        "from sklearn.metrics import accuracy_score\n",
        "accuracy_score(y_val, y_pred)"
      ],
      "execution_count": 0,
      "outputs": [
        {
          "output_type": "execute_result",
          "data": {
            "text/plain": [
              "0.8873039959534649"
            ]
          },
          "metadata": {
            "tags": []
          },
          "execution_count": 15
        }
      ]
    },
    {
      "cell_type": "markdown",
      "metadata": {
        "id": "KKZRCZ2UCsPr",
        "colab_type": "text"
      },
      "source": [
        "#### [`sklearn.metrics.roc_auc_score`](https://scikit-learn.org/stable/modules/generated/sklearn.metrics.roc_auc_score.html)\n",
        "\n",
        "Baseline \"ROC AUC\" score by guessing the majority class for every prediction:"
      ]
    },
    {
      "cell_type": "code",
      "metadata": {
        "id": "-BJ7KSZiCsPs",
        "colab_type": "code",
        "outputId": "e02f167a-79a3-4732-fa3a-f224ce43279a",
        "colab": {
          "base_uri": "https://localhost:8080/",
          "height": 35
        }
      },
      "source": [
        "from sklearn.metrics import roc_auc_score\n",
        "roc_auc_score(y_val, y_pred)"
      ],
      "execution_count": 0,
      "outputs": [
        {
          "output_type": "execute_result",
          "data": {
            "text/plain": [
              "0.5"
            ]
          },
          "metadata": {
            "tags": []
          },
          "execution_count": 16
        }
      ]
    },
    {
      "cell_type": "markdown",
      "metadata": {
        "id": "qEOAlrXlCsPy",
        "colab_type": "text"
      },
      "source": [
        "## Fast first models"
      ]
    },
    {
      "cell_type": "markdown",
      "metadata": {
        "id": "T_fyZBDuCsP0",
        "colab_type": "text"
      },
      "source": [
        "### Ignore rows/columns with nulls"
      ]
    },
    {
      "cell_type": "markdown",
      "metadata": {
        "id": "9XCTVtt0CsP2",
        "colab_type": "text"
      },
      "source": [
        "Does this dataset have nulls?"
      ]
    },
    {
      "cell_type": "code",
      "metadata": {
        "id": "MunQUoQXCsP6",
        "colab_type": "code",
        "outputId": "ffb592f5-9c7b-44ac-c5f7-da7116037632",
        "colab": {
          "base_uri": "https://localhost:8080/",
          "height": 395
        }
      },
      "source": [
        "X_train.isnull().sum().sort_values()"
      ],
      "execution_count": 0,
      "outputs": [
        {
          "output_type": "execute_result",
          "data": {
            "text/plain": [
              "age               0\n",
              "cons.conf.idx     0\n",
              "cons.price.idx    0\n",
              "emp.var.rate      0\n",
              "poutcome          0\n",
              "previous          0\n",
              "pdays             0\n",
              "campaign          0\n",
              "duration          0\n",
              "day_of_week       0\n",
              "month             0\n",
              "contact           0\n",
              "loan              0\n",
              "housing           0\n",
              "default           0\n",
              "education         0\n",
              "marital           0\n",
              "job               0\n",
              "euribor3m         0\n",
              "nr.employed       0\n",
              "dtype: int64"
            ]
          },
          "metadata": {
            "tags": []
          },
          "execution_count": 17
        }
      ]
    },
    {
      "cell_type": "markdown",
      "metadata": {
        "id": "T8V4LR0MCsQF",
        "colab_type": "text"
      },
      "source": [
        "### Ignore nonnumeric features"
      ]
    },
    {
      "cell_type": "markdown",
      "metadata": {
        "id": "gZOkAkIcCsQK",
        "colab_type": "text"
      },
      "source": [
        "Here are the numeric features:"
      ]
    },
    {
      "cell_type": "code",
      "metadata": {
        "id": "7RhTWlemCsQM",
        "colab_type": "code",
        "outputId": "107d5213-4e3d-4a71-c783-19e0a3995845",
        "colab": {
          "base_uri": "https://localhost:8080/",
          "height": 317
        }
      },
      "source": [
        "X_train.describe(include='number')"
      ],
      "execution_count": 0,
      "outputs": [
        {
          "output_type": "execute_result",
          "data": {
            "text/html": [
              "<div>\n",
              "<style scoped>\n",
              "    .dataframe tbody tr th:only-of-type {\n",
              "        vertical-align: middle;\n",
              "    }\n",
              "\n",
              "    .dataframe tbody tr th {\n",
              "        vertical-align: top;\n",
              "    }\n",
              "\n",
              "    .dataframe thead th {\n",
              "        text-align: right;\n",
              "    }\n",
              "</style>\n",
              "<table border=\"1\" class=\"dataframe\">\n",
              "  <thead>\n",
              "    <tr style=\"text-align: right;\">\n",
              "      <th></th>\n",
              "      <th>age</th>\n",
              "      <th>duration</th>\n",
              "      <th>campaign</th>\n",
              "      <th>pdays</th>\n",
              "      <th>previous</th>\n",
              "      <th>emp.var.rate</th>\n",
              "      <th>cons.price.idx</th>\n",
              "      <th>cons.conf.idx</th>\n",
              "      <th>euribor3m</th>\n",
              "      <th>nr.employed</th>\n",
              "    </tr>\n",
              "  </thead>\n",
              "  <tbody>\n",
              "    <tr>\n",
              "      <th>count</th>\n",
              "      <td>23065.000000</td>\n",
              "      <td>23065.000000</td>\n",
              "      <td>23065.000000</td>\n",
              "      <td>23065.000000</td>\n",
              "      <td>23065.000000</td>\n",
              "      <td>23065.000000</td>\n",
              "      <td>23065.000000</td>\n",
              "      <td>23065.000000</td>\n",
              "      <td>23065.000000</td>\n",
              "      <td>23065.000000</td>\n",
              "    </tr>\n",
              "    <tr>\n",
              "      <th>mean</th>\n",
              "      <td>39.986343</td>\n",
              "      <td>257.834208</td>\n",
              "      <td>2.569391</td>\n",
              "      <td>961.977152</td>\n",
              "      <td>0.174767</td>\n",
              "      <td>0.087717</td>\n",
              "      <td>93.578786</td>\n",
              "      <td>-40.497490</td>\n",
              "      <td>3.624652</td>\n",
              "      <td>5167.049560</td>\n",
              "    </tr>\n",
              "    <tr>\n",
              "      <th>std</th>\n",
              "      <td>10.419539</td>\n",
              "      <td>260.598528</td>\n",
              "      <td>2.785993</td>\n",
              "      <td>188.130448</td>\n",
              "      <td>0.498633</td>\n",
              "      <td>1.568378</td>\n",
              "      <td>0.579648</td>\n",
              "      <td>4.627492</td>\n",
              "      <td>1.734725</td>\n",
              "      <td>72.602289</td>\n",
              "    </tr>\n",
              "    <tr>\n",
              "      <th>min</th>\n",
              "      <td>17.000000</td>\n",
              "      <td>0.000000</td>\n",
              "      <td>1.000000</td>\n",
              "      <td>0.000000</td>\n",
              "      <td>0.000000</td>\n",
              "      <td>-3.400000</td>\n",
              "      <td>92.201000</td>\n",
              "      <td>-50.800000</td>\n",
              "      <td>0.634000</td>\n",
              "      <td>4963.600000</td>\n",
              "    </tr>\n",
              "    <tr>\n",
              "      <th>25%</th>\n",
              "      <td>32.000000</td>\n",
              "      <td>102.000000</td>\n",
              "      <td>1.000000</td>\n",
              "      <td>999.000000</td>\n",
              "      <td>0.000000</td>\n",
              "      <td>-1.800000</td>\n",
              "      <td>93.075000</td>\n",
              "      <td>-42.700000</td>\n",
              "      <td>1.344000</td>\n",
              "      <td>5099.100000</td>\n",
              "    </tr>\n",
              "    <tr>\n",
              "      <th>50%</th>\n",
              "      <td>38.000000</td>\n",
              "      <td>180.000000</td>\n",
              "      <td>2.000000</td>\n",
              "      <td>999.000000</td>\n",
              "      <td>0.000000</td>\n",
              "      <td>1.100000</td>\n",
              "      <td>93.749000</td>\n",
              "      <td>-41.800000</td>\n",
              "      <td>4.857000</td>\n",
              "      <td>5191.000000</td>\n",
              "    </tr>\n",
              "    <tr>\n",
              "      <th>75%</th>\n",
              "      <td>47.000000</td>\n",
              "      <td>319.000000</td>\n",
              "      <td>3.000000</td>\n",
              "      <td>999.000000</td>\n",
              "      <td>0.000000</td>\n",
              "      <td>1.400000</td>\n",
              "      <td>93.994000</td>\n",
              "      <td>-36.400000</td>\n",
              "      <td>4.961000</td>\n",
              "      <td>5228.100000</td>\n",
              "    </tr>\n",
              "    <tr>\n",
              "      <th>max</th>\n",
              "      <td>98.000000</td>\n",
              "      <td>4918.000000</td>\n",
              "      <td>56.000000</td>\n",
              "      <td>999.000000</td>\n",
              "      <td>7.000000</td>\n",
              "      <td>1.400000</td>\n",
              "      <td>94.767000</td>\n",
              "      <td>-26.900000</td>\n",
              "      <td>5.045000</td>\n",
              "      <td>5228.100000</td>\n",
              "    </tr>\n",
              "  </tbody>\n",
              "</table>\n",
              "</div>"
            ],
            "text/plain": [
              "                age      duration      campaign         pdays      previous  \\\n",
              "count  23065.000000  23065.000000  23065.000000  23065.000000  23065.000000   \n",
              "mean      39.986343    257.834208      2.569391    961.977152      0.174767   \n",
              "std       10.419539    260.598528      2.785993    188.130448      0.498633   \n",
              "min       17.000000      0.000000      1.000000      0.000000      0.000000   \n",
              "25%       32.000000    102.000000      1.000000    999.000000      0.000000   \n",
              "50%       38.000000    180.000000      2.000000    999.000000      0.000000   \n",
              "75%       47.000000    319.000000      3.000000    999.000000      0.000000   \n",
              "max       98.000000   4918.000000     56.000000    999.000000      7.000000   \n",
              "\n",
              "       emp.var.rate  cons.price.idx  cons.conf.idx     euribor3m   nr.employed  \n",
              "count  23065.000000    23065.000000   23065.000000  23065.000000  23065.000000  \n",
              "mean       0.087717       93.578786     -40.497490      3.624652   5167.049560  \n",
              "std        1.568378        0.579648       4.627492      1.734725     72.602289  \n",
              "min       -3.400000       92.201000     -50.800000      0.634000   4963.600000  \n",
              "25%       -1.800000       93.075000     -42.700000      1.344000   5099.100000  \n",
              "50%        1.100000       93.749000     -41.800000      4.857000   5191.000000  \n",
              "75%        1.400000       93.994000     -36.400000      4.961000   5228.100000  \n",
              "max        1.400000       94.767000     -26.900000      5.045000   5228.100000  "
            ]
          },
          "metadata": {
            "tags": []
          },
          "execution_count": 18
        }
      ]
    },
    {
      "cell_type": "markdown",
      "metadata": {
        "id": "RKkbrcA0CsQR",
        "colab_type": "text"
      },
      "source": [
        "Here are the nonnumeric features:"
      ]
    },
    {
      "cell_type": "code",
      "metadata": {
        "id": "IZcbNDeLCsQS",
        "colab_type": "code",
        "outputId": "5e343971-0469-4cb1-d9cd-d3d50a5a6d19",
        "colab": {
          "base_uri": "https://localhost:8080/",
          "height": 173
        }
      },
      "source": [
        "X_train.describe(exclude='number')"
      ],
      "execution_count": 0,
      "outputs": [
        {
          "output_type": "execute_result",
          "data": {
            "text/html": [
              "<div>\n",
              "<style scoped>\n",
              "    .dataframe tbody tr th:only-of-type {\n",
              "        vertical-align: middle;\n",
              "    }\n",
              "\n",
              "    .dataframe tbody tr th {\n",
              "        vertical-align: top;\n",
              "    }\n",
              "\n",
              "    .dataframe thead th {\n",
              "        text-align: right;\n",
              "    }\n",
              "</style>\n",
              "<table border=\"1\" class=\"dataframe\">\n",
              "  <thead>\n",
              "    <tr style=\"text-align: right;\">\n",
              "      <th></th>\n",
              "      <th>job</th>\n",
              "      <th>marital</th>\n",
              "      <th>education</th>\n",
              "      <th>default</th>\n",
              "      <th>housing</th>\n",
              "      <th>loan</th>\n",
              "      <th>contact</th>\n",
              "      <th>month</th>\n",
              "      <th>day_of_week</th>\n",
              "      <th>poutcome</th>\n",
              "    </tr>\n",
              "  </thead>\n",
              "  <tbody>\n",
              "    <tr>\n",
              "      <th>count</th>\n",
              "      <td>23065</td>\n",
              "      <td>23065</td>\n",
              "      <td>23065</td>\n",
              "      <td>23065</td>\n",
              "      <td>23065</td>\n",
              "      <td>23065</td>\n",
              "      <td>23065</td>\n",
              "      <td>23065</td>\n",
              "      <td>23065</td>\n",
              "      <td>23065</td>\n",
              "    </tr>\n",
              "    <tr>\n",
              "      <th>unique</th>\n",
              "      <td>12</td>\n",
              "      <td>4</td>\n",
              "      <td>8</td>\n",
              "      <td>3</td>\n",
              "      <td>3</td>\n",
              "      <td>3</td>\n",
              "      <td>2</td>\n",
              "      <td>10</td>\n",
              "      <td>5</td>\n",
              "      <td>3</td>\n",
              "    </tr>\n",
              "    <tr>\n",
              "      <th>top</th>\n",
              "      <td>admin.</td>\n",
              "      <td>married</td>\n",
              "      <td>university.degree</td>\n",
              "      <td>no</td>\n",
              "      <td>yes</td>\n",
              "      <td>no</td>\n",
              "      <td>cellular</td>\n",
              "      <td>may</td>\n",
              "      <td>thu</td>\n",
              "      <td>nonexistent</td>\n",
              "    </tr>\n",
              "    <tr>\n",
              "      <th>freq</th>\n",
              "      <td>5792</td>\n",
              "      <td>14009</td>\n",
              "      <td>6819</td>\n",
              "      <td>18223</td>\n",
              "      <td>12092</td>\n",
              "      <td>18990</td>\n",
              "      <td>14626</td>\n",
              "      <td>7681</td>\n",
              "      <td>4801</td>\n",
              "      <td>19894</td>\n",
              "    </tr>\n",
              "  </tbody>\n",
              "</table>\n",
              "</div>"
            ],
            "text/plain": [
              "           job  marital          education default housing   loan   contact  \\\n",
              "count    23065    23065              23065   23065   23065  23065     23065   \n",
              "unique      12        4                  8       3       3      3         2   \n",
              "top     admin.  married  university.degree      no     yes     no  cellular   \n",
              "freq      5792    14009               6819   18223   12092  18990     14626   \n",
              "\n",
              "        month day_of_week     poutcome  \n",
              "count   23065       23065        23065  \n",
              "unique     10           5            3  \n",
              "top       may         thu  nonexistent  \n",
              "freq     7681        4801        19894  "
            ]
          },
          "metadata": {
            "tags": []
          },
          "execution_count": 19
        }
      ]
    },
    {
      "cell_type": "markdown",
      "metadata": {
        "id": "RCeuKyMVCsQV",
        "colab_type": "text"
      },
      "source": [
        "Just select the nonnumeric features:"
      ]
    },
    {
      "cell_type": "code",
      "metadata": {
        "id": "NbCNxw0jCsQX",
        "colab_type": "code",
        "colab": {}
      },
      "source": [
        "X_train_numeric = X_train.select_dtypes('number')\n",
        "X_val_numeric = X_val.select_dtypes('number')"
      ],
      "execution_count": 0,
      "outputs": []
    },
    {
      "cell_type": "markdown",
      "metadata": {
        "id": "KetPrB3UCsQi",
        "colab_type": "text"
      },
      "source": [
        "### Shallow trees are good for fast, first baselines, and to look for \"leakage\""
      ]
    },
    {
      "cell_type": "markdown",
      "metadata": {
        "id": "r4o71XbXCsQl",
        "colab_type": "text"
      },
      "source": [
        "#### Shallow trees"
      ]
    },
    {
      "cell_type": "markdown",
      "metadata": {
        "id": "shjlVr87CsQm",
        "colab_type": "text"
      },
      "source": [
        "After naive baselines, *Data Science for Business* suggests [\"decision stumps.\"](https://en.wikipedia.org/wiki/Decision_stump)\n",
        "\n",
        "> A slightly more complex alternative is a model that only considers a very small amount of feature information. ...\n",
        "\n",
        "> One example is to build a \"decision stump\"—a decision tree with only one internal node, the root node. A tree limited to one internal node simply means that the tree induction selects the single most informative feature to make a decision. In a well-known paper in machine learning, [Robert Holte (1993)](https://link.springer.com/article/10.1023/A:1022631118932) showed that ***decision stumps often produce quite good baseline performance*** ...\n",
        "\n",
        "> A decision stump is an example of the strategy of ***choosing the single most informative piece of information*** available and basing all decisions on it. In some cases most of the leverage may be coming from a single feature, and this method assesses whether and to what extent this is the case.\n",
        "\n",
        "To fit a \"decision stump\" we could use a [`DecisionTreeClassifier`](http://scikit-learn.org/stable/modules/generated/sklearn.tree.DecisionTreeClassifier.html) model with parameter `max_depth=1`.\n",
        "\n",
        "In this case, we'll let our tree grow a little deeper, and use the parameter `max_depth=2`\n",
        "\n",
        "In the previous code cell, we selected only the numeric features, to avoid data wrangling and save time. For now, we'll use only the numeric features."
      ]
    },
    {
      "cell_type": "markdown",
      "metadata": {
        "id": "axaQuUlnCsQo",
        "colab_type": "text"
      },
      "source": [
        "#### Looking for leakage"
      ]
    },
    {
      "cell_type": "markdown",
      "metadata": {
        "id": "omZdgAQCCsQq",
        "colab_type": "text"
      },
      "source": [
        "[Xavier Amatriain recommends,](https://www.quora.com/What-are-some-best-practices-for-training-machine-learning-models/answer/Xavier-Amatriain)\n",
        "\n",
        "\"Make sure your training features do not contain data from the “future” (aka time traveling). While this might be easy and obvious in some cases, it can get tricky. ... If your test metric becomes really good all of the sudden, ask yourself what you might be doing wrong. Chances are you are time travelling or overfitting in some way.\""
      ]
    },
    {
      "cell_type": "markdown",
      "metadata": {
        "id": "1361f7XtCsQr",
        "colab_type": "text"
      },
      "source": [
        "We can test this with the [UCI repository's Bank Marketing dataset](https://archive.ics.uci.edu/ml/datasets/Bank+Marketing). It has a feature which leaks information from the future and should be dropped:\n",
        "\n",
        ">11 - duration: last contact duration, in seconds (numeric). Important note: this attribute highly affects the output target (e.g., if duration=0 then y='no'). Yet, the duration is not known before a call is performed. Also, after the end of the call y is obviously known. Thus, this input ... should be discarded if the intention is to have a realistic predictive model."
      ]
    },
    {
      "cell_type": "markdown",
      "metadata": {
        "id": "_YQpF1KwCsQt",
        "colab_type": "text"
      },
      "source": [
        "#### Let's train a shallow tree basline\n",
        "\n",
        "... without dropping the leaky `duration` feature."
      ]
    },
    {
      "cell_type": "code",
      "metadata": {
        "id": "FY2FEXAlCsQu",
        "colab_type": "code",
        "outputId": "f0f52d63-d887-4a3b-f2b1-ad63031ab0e6",
        "colab": {
          "base_uri": "https://localhost:8080/",
          "height": 35
        }
      },
      "source": [
        "from sklearn.tree import DecisionTreeClassifier\n",
        "tree = DecisionTreeClassifier(max_depth=2)\n",
        "tree.fit(X_train_numeric, y_train)\n",
        "y_pred_proba = tree.predict_proba(X_val_numeric)[:, 1]\n",
        "roc_auc_score(y_val, y_pred_proba)"
      ],
      "execution_count": 0,
      "outputs": [
        {
          "output_type": "execute_result",
          "data": {
            "text/plain": [
              "0.8647642682440316"
            ]
          },
          "metadata": {
            "tags": []
          },
          "execution_count": 21
        }
      ]
    },
    {
      "cell_type": "markdown",
      "metadata": {
        "id": "7HGs12cdCsQx",
        "colab_type": "text"
      },
      "source": [
        "Then we can visualize the tree to see which feature(s) were the \"most informative\":"
      ]
    },
    {
      "cell_type": "code",
      "metadata": {
        "id": "ZdQi8jAfCsQy",
        "colab_type": "code",
        "outputId": "13824f1f-cb1a-4cb9-bd20-00479feba228",
        "colab": {
          "base_uri": "https://localhost:8080/",
          "height": 379
        }
      },
      "source": [
        "import graphviz\n",
        "from sklearn.tree import export_graphviz\n",
        "\n",
        "dot_data = export_graphviz(tree, out_file=None, feature_names=X_train_numeric.columns, \n",
        "                           class_names=['No', 'Yes'], filled=True, impurity=False, proportion=True)\n",
        "\n",
        "graphviz.Source(dot_data)"
      ],
      "execution_count": 0,
      "outputs": [
        {
          "output_type": "execute_result",
          "data": {
            "text/plain": [
              "<graphviz.files.Source at 0x7f3f4cd8dfd0>"
            ],
            "image/svg+xml": "<?xml version=\"1.0\" encoding=\"UTF-8\" standalone=\"no\"?>\n<!DOCTYPE svg PUBLIC \"-//W3C//DTD SVG 1.1//EN\"\n \"http://www.w3.org/Graphics/SVG/1.1/DTD/svg11.dtd\">\n<!-- Generated by graphviz version 2.40.1 (20161225.0304)\n -->\n<!-- Title: Tree Pages: 1 -->\n<svg width=\"650pt\" height=\"269pt\"\n viewBox=\"0.00 0.00 650.00 269.00\" xmlns=\"http://www.w3.org/2000/svg\" xmlns:xlink=\"http://www.w3.org/1999/xlink\">\n<g id=\"graph0\" class=\"graph\" transform=\"scale(1 1) rotate(0) translate(4 265)\">\n<title>Tree</title>\n<polygon fill=\"#ffffff\" stroke=\"transparent\" points=\"-4,4 -4,-265 646,-265 646,4 -4,4\"/>\n<!-- 0 -->\n<g id=\"node1\" class=\"node\">\n<title>0</title>\n<polygon fill=\"#e58139\" fill-opacity=\"0.874510\" stroke=\"#000000\" points=\"401,-261 240,-261 240,-193 401,-193 401,-261\"/>\n<text text-anchor=\"middle\" x=\"320.5\" y=\"-245.8\" font-family=\"Times,serif\" font-size=\"14.00\" fill=\"#000000\">nr.employed &lt;= 5087.65</text>\n<text text-anchor=\"middle\" x=\"320.5\" y=\"-230.8\" font-family=\"Times,serif\" font-size=\"14.00\" fill=\"#000000\">samples = 100.0%</text>\n<text text-anchor=\"middle\" x=\"320.5\" y=\"-215.8\" font-family=\"Times,serif\" font-size=\"14.00\" fill=\"#000000\">value = [0.887, 0.113]</text>\n<text text-anchor=\"middle\" x=\"320.5\" y=\"-200.8\" font-family=\"Times,serif\" font-size=\"14.00\" fill=\"#000000\">class = No</text>\n</g>\n<!-- 1 -->\n<g id=\"node2\" class=\"node\">\n<title>1</title>\n<polygon fill=\"#e58139\" fill-opacity=\"0.219608\" stroke=\"#000000\" points=\"312,-157 165,-157 165,-89 312,-89 312,-157\"/>\n<text text-anchor=\"middle\" x=\"238.5\" y=\"-141.8\" font-family=\"Times,serif\" font-size=\"14.00\" fill=\"#000000\">duration &lt;= 162.5</text>\n<text text-anchor=\"middle\" x=\"238.5\" y=\"-126.8\" font-family=\"Times,serif\" font-size=\"14.00\" fill=\"#000000\">samples = 12.1%</text>\n<text text-anchor=\"middle\" x=\"238.5\" y=\"-111.8\" font-family=\"Times,serif\" font-size=\"14.00\" fill=\"#000000\">value = [0.562, 0.438]</text>\n<text text-anchor=\"middle\" x=\"238.5\" y=\"-96.8\" font-family=\"Times,serif\" font-size=\"14.00\" fill=\"#000000\">class = No</text>\n</g>\n<!-- 0&#45;&gt;1 -->\n<g id=\"edge1\" class=\"edge\">\n<title>0&#45;&gt;1</title>\n<path fill=\"none\" stroke=\"#000000\" d=\"M293.6501,-192.9465C286.6417,-184.0578 279.0045,-174.3716 271.709,-165.1188\"/>\n<polygon fill=\"#000000\" stroke=\"#000000\" points=\"274.3502,-162.8157 265.4102,-157.13 268.8533,-167.1498 274.3502,-162.8157\"/>\n<text text-anchor=\"middle\" x=\"262.4737\" y=\"-178.2569\" font-family=\"Times,serif\" font-size=\"14.00\" fill=\"#000000\">True</text>\n</g>\n<!-- 4 -->\n<g id=\"node5\" class=\"node\">\n<title>4</title>\n<polygon fill=\"#e58139\" fill-opacity=\"0.925490\" stroke=\"#000000\" points=\"477,-157 330,-157 330,-89 477,-89 477,-157\"/>\n<text text-anchor=\"middle\" x=\"403.5\" y=\"-141.8\" font-family=\"Times,serif\" font-size=\"14.00\" fill=\"#000000\">duration &lt;= 522.5</text>\n<text text-anchor=\"middle\" x=\"403.5\" y=\"-126.8\" font-family=\"Times,serif\" font-size=\"14.00\" fill=\"#000000\">samples = 87.9%</text>\n<text text-anchor=\"middle\" x=\"403.5\" y=\"-111.8\" font-family=\"Times,serif\" font-size=\"14.00\" fill=\"#000000\">value = [0.932, 0.068]</text>\n<text text-anchor=\"middle\" x=\"403.5\" y=\"-96.8\" font-family=\"Times,serif\" font-size=\"14.00\" fill=\"#000000\">class = No</text>\n</g>\n<!-- 0&#45;&gt;4 -->\n<g id=\"edge4\" class=\"edge\">\n<title>0&#45;&gt;4</title>\n<path fill=\"none\" stroke=\"#000000\" d=\"M347.6773,-192.9465C354.7712,-184.0578 362.5015,-174.3716 369.886,-165.1188\"/>\n<polygon fill=\"#000000\" stroke=\"#000000\" points=\"372.7594,-167.1293 376.2616,-157.13 367.2882,-162.7628 372.7594,-167.1293\"/>\n<text text-anchor=\"middle\" x=\"379.0516\" y=\"-178.2738\" font-family=\"Times,serif\" font-size=\"14.00\" fill=\"#000000\">False</text>\n</g>\n<!-- 2 -->\n<g id=\"node3\" class=\"node\">\n<title>2</title>\n<polygon fill=\"#e58139\" fill-opacity=\"0.831373\" stroke=\"#000000\" points=\"147,-53 0,-53 0,0 147,0 147,-53\"/>\n<text text-anchor=\"middle\" x=\"73.5\" y=\"-37.8\" font-family=\"Times,serif\" font-size=\"14.00\" fill=\"#000000\">samples = 4.3%</text>\n<text text-anchor=\"middle\" x=\"73.5\" y=\"-22.8\" font-family=\"Times,serif\" font-size=\"14.00\" fill=\"#000000\">value = [0.854, 0.146]</text>\n<text text-anchor=\"middle\" x=\"73.5\" y=\"-7.8\" font-family=\"Times,serif\" font-size=\"14.00\" fill=\"#000000\">class = No</text>\n</g>\n<!-- 1&#45;&gt;2 -->\n<g id=\"edge2\" class=\"edge\">\n<title>1&#45;&gt;2</title>\n<path fill=\"none\" stroke=\"#000000\" d=\"M180.3272,-88.9777C163.182,-78.9504 144.4975,-68.0228 127.618,-58.1508\"/>\n<polygon fill=\"#000000\" stroke=\"#000000\" points=\"129.3724,-55.1223 118.9734,-53.095 125.8385,-61.1648 129.3724,-55.1223\"/>\n</g>\n<!-- 3 -->\n<g id=\"node4\" class=\"node\">\n<title>3</title>\n<polygon fill=\"#399de5\" fill-opacity=\"0.329412\" stroke=\"#000000\" points=\"312,-53 165,-53 165,0 312,0 312,-53\"/>\n<text text-anchor=\"middle\" x=\"238.5\" y=\"-37.8\" font-family=\"Times,serif\" font-size=\"14.00\" fill=\"#000000\">samples = 7.8%</text>\n<text text-anchor=\"middle\" x=\"238.5\" y=\"-22.8\" font-family=\"Times,serif\" font-size=\"14.00\" fill=\"#000000\">value = [0.402, 0.598]</text>\n<text text-anchor=\"middle\" x=\"238.5\" y=\"-7.8\" font-family=\"Times,serif\" font-size=\"14.00\" fill=\"#000000\">class = Yes</text>\n</g>\n<!-- 1&#45;&gt;3 -->\n<g id=\"edge3\" class=\"edge\">\n<title>1&#45;&gt;3</title>\n<path fill=\"none\" stroke=\"#000000\" d=\"M238.5,-88.9777C238.5,-80.7364 238.5,-71.887 238.5,-63.5153\"/>\n<polygon fill=\"#000000\" stroke=\"#000000\" points=\"242.0001,-63.2484 238.5,-53.2485 235.0001,-63.2485 242.0001,-63.2484\"/>\n</g>\n<!-- 5 -->\n<g id=\"node6\" class=\"node\">\n<title>5</title>\n<polygon fill=\"#e58139\" fill-opacity=\"0.972549\" stroke=\"#000000\" points=\"477,-53 330,-53 330,0 477,0 477,-53\"/>\n<text text-anchor=\"middle\" x=\"403.5\" y=\"-37.8\" font-family=\"Times,serif\" font-size=\"14.00\" fill=\"#000000\">samples = 78.4%</text>\n<text text-anchor=\"middle\" x=\"403.5\" y=\"-22.8\" font-family=\"Times,serif\" font-size=\"14.00\" fill=\"#000000\">value = [0.974, 0.026]</text>\n<text text-anchor=\"middle\" x=\"403.5\" y=\"-7.8\" font-family=\"Times,serif\" font-size=\"14.00\" fill=\"#000000\">class = No</text>\n</g>\n<!-- 4&#45;&gt;5 -->\n<g id=\"edge5\" class=\"edge\">\n<title>4&#45;&gt;5</title>\n<path fill=\"none\" stroke=\"#000000\" d=\"M403.5,-88.9777C403.5,-80.7364 403.5,-71.887 403.5,-63.5153\"/>\n<polygon fill=\"#000000\" stroke=\"#000000\" points=\"407.0001,-63.2484 403.5,-53.2485 400.0001,-63.2485 407.0001,-63.2484\"/>\n</g>\n<!-- 6 -->\n<g id=\"node7\" class=\"node\">\n<title>6</title>\n<polygon fill=\"#e58139\" fill-opacity=\"0.298039\" stroke=\"#000000\" points=\"642,-53 495,-53 495,0 642,0 642,-53\"/>\n<text text-anchor=\"middle\" x=\"568.5\" y=\"-37.8\" font-family=\"Times,serif\" font-size=\"14.00\" fill=\"#000000\">samples = 9.5%</text>\n<text text-anchor=\"middle\" x=\"568.5\" y=\"-22.8\" font-family=\"Times,serif\" font-size=\"14.00\" fill=\"#000000\">value = [0.588, 0.412]</text>\n<text text-anchor=\"middle\" x=\"568.5\" y=\"-7.8\" font-family=\"Times,serif\" font-size=\"14.00\" fill=\"#000000\">class = No</text>\n</g>\n<!-- 4&#45;&gt;6 -->\n<g id=\"edge6\" class=\"edge\">\n<title>4&#45;&gt;6</title>\n<path fill=\"none\" stroke=\"#000000\" d=\"M461.6728,-88.9777C478.818,-78.9504 497.5025,-68.0228 514.382,-58.1508\"/>\n<polygon fill=\"#000000\" stroke=\"#000000\" points=\"516.1615,-61.1648 523.0266,-53.095 512.6276,-55.1223 516.1615,-61.1648\"/>\n</g>\n</g>\n</svg>\n"
          },
          "metadata": {
            "tags": []
          },
          "execution_count": 22
        }
      ]
    },
    {
      "cell_type": "markdown",
      "metadata": {
        "id": "soO3DysJCsQ1",
        "colab_type": "text"
      },
      "source": [
        "This baseline has a ROC AUC score above 0.85, and it uses the `duration` feature, as well as `nr.employed`, a \"social and economic context attribute\" for \"number of employees - quarterly indicator.\""
      ]
    },
    {
      "cell_type": "markdown",
      "metadata": {
        "id": "o_NkQ_T8CsQ2",
        "colab_type": "text"
      },
      "source": [
        "#### Let's drop the  `duration` feature"
      ]
    },
    {
      "cell_type": "code",
      "metadata": {
        "id": "zOLUtLbAWjUL",
        "colab_type": "code",
        "colab": {}
      },
      "source": [
        "X_train = X_train.drop(columns='duration')\n",
        "X_val = X_val.drop(columns='duration')\n",
        "X_test = X_test.drop(columns='duration')"
      ],
      "execution_count": 0,
      "outputs": []
    },
    {
      "cell_type": "code",
      "metadata": {
        "id": "ZMpE7yGdCsQ3",
        "colab_type": "code",
        "colab": {}
      },
      "source": [
        "X_train_numeric = X_train.select_dtypes('number')\n",
        "X_val_numeric = X_val.select_dtypes('number')"
      ],
      "execution_count": 0,
      "outputs": []
    },
    {
      "cell_type": "markdown",
      "metadata": {
        "id": "5hv72CVaCsQ7",
        "colab_type": "text"
      },
      "source": [
        "When the `duration` feature is dropped, then the ROC AUC score drops. Which is what we expect, it's not a bad thing in this situation!"
      ]
    },
    {
      "cell_type": "code",
      "metadata": {
        "id": "RqYWzVCoCsQ8",
        "colab_type": "code",
        "outputId": "cc442141-69cf-4148-fa66-a26d9cc88247",
        "colab": {
          "base_uri": "https://localhost:8080/",
          "height": 35
        }
      },
      "source": [
        "tree = DecisionTreeClassifier(max_depth=2)\n",
        "tree.fit(X_train_numeric, y_train)\n",
        "y_pred_proba = tree.predict_proba(X_val_numeric)[:, 1]\n",
        "roc_auc_score(y_val, y_pred_proba)"
      ],
      "execution_count": 0,
      "outputs": [
        {
          "output_type": "execute_result",
          "data": {
            "text/plain": [
              "0.7454378790722732"
            ]
          },
          "metadata": {
            "tags": []
          },
          "execution_count": 25
        }
      ]
    },
    {
      "cell_type": "code",
      "metadata": {
        "id": "UBNFajCRCsRL",
        "colab_type": "code",
        "outputId": "4b9e527b-5fbd-42d6-89f6-a87e56cd9739",
        "colab": {
          "base_uri": "https://localhost:8080/",
          "height": 379
        }
      },
      "source": [
        "dot_data = export_graphviz(tree, out_file=None, feature_names=X_train_numeric.columns, \n",
        "                           class_names=['No', 'Yes'], filled=True, impurity=False, proportion=True)\n",
        "\n",
        "graphviz.Source(dot_data)"
      ],
      "execution_count": 0,
      "outputs": [
        {
          "output_type": "execute_result",
          "data": {
            "text/plain": [
              "<graphviz.files.Source at 0x7f3f4cdb5320>"
            ],
            "image/svg+xml": "<?xml version=\"1.0\" encoding=\"UTF-8\" standalone=\"no\"?>\n<!DOCTYPE svg PUBLIC \"-//W3C//DTD SVG 1.1//EN\"\n \"http://www.w3.org/Graphics/SVG/1.1/DTD/svg11.dtd\">\n<!-- Generated by graphviz version 2.40.1 (20161225.0304)\n -->\n<!-- Title: Tree Pages: 1 -->\n<svg width=\"652pt\" height=\"269pt\"\n viewBox=\"0.00 0.00 652.00 269.00\" xmlns=\"http://www.w3.org/2000/svg\" xmlns:xlink=\"http://www.w3.org/1999/xlink\">\n<g id=\"graph0\" class=\"graph\" transform=\"scale(1 1) rotate(0) translate(4 265)\">\n<title>Tree</title>\n<polygon fill=\"#ffffff\" stroke=\"transparent\" points=\"-4,4 -4,-265 648,-265 648,4 -4,4\"/>\n<!-- 0 -->\n<g id=\"node1\" class=\"node\">\n<title>0</title>\n<polygon fill=\"#e58139\" fill-opacity=\"0.874510\" stroke=\"#000000\" points=\"402,-261 241,-261 241,-193 402,-193 402,-261\"/>\n<text text-anchor=\"middle\" x=\"321.5\" y=\"-245.8\" font-family=\"Times,serif\" font-size=\"14.00\" fill=\"#000000\">nr.employed &lt;= 5087.65</text>\n<text text-anchor=\"middle\" x=\"321.5\" y=\"-230.8\" font-family=\"Times,serif\" font-size=\"14.00\" fill=\"#000000\">samples = 100.0%</text>\n<text text-anchor=\"middle\" x=\"321.5\" y=\"-215.8\" font-family=\"Times,serif\" font-size=\"14.00\" fill=\"#000000\">value = [0.887, 0.113]</text>\n<text text-anchor=\"middle\" x=\"321.5\" y=\"-200.8\" font-family=\"Times,serif\" font-size=\"14.00\" fill=\"#000000\">class = No</text>\n</g>\n<!-- 1 -->\n<g id=\"node2\" class=\"node\">\n<title>1</title>\n<polygon fill=\"#e58139\" fill-opacity=\"0.219608\" stroke=\"#000000\" points=\"310,-157 163,-157 163,-89 310,-89 310,-157\"/>\n<text text-anchor=\"middle\" x=\"236.5\" y=\"-141.8\" font-family=\"Times,serif\" font-size=\"14.00\" fill=\"#000000\">pdays &lt;= 16.5</text>\n<text text-anchor=\"middle\" x=\"236.5\" y=\"-126.8\" font-family=\"Times,serif\" font-size=\"14.00\" fill=\"#000000\">samples = 12.1%</text>\n<text text-anchor=\"middle\" x=\"236.5\" y=\"-111.8\" font-family=\"Times,serif\" font-size=\"14.00\" fill=\"#000000\">value = [0.562, 0.438]</text>\n<text text-anchor=\"middle\" x=\"236.5\" y=\"-96.8\" font-family=\"Times,serif\" font-size=\"14.00\" fill=\"#000000\">class = No</text>\n</g>\n<!-- 0&#45;&gt;1 -->\n<g id=\"edge1\" class=\"edge\">\n<title>0&#45;&gt;1</title>\n<path fill=\"none\" stroke=\"#000000\" d=\"M293.6678,-192.9465C286.403,-184.0578 278.4864,-174.3716 270.924,-165.1188\"/>\n<polygon fill=\"#000000\" stroke=\"#000000\" points=\"273.4331,-162.658 264.3947,-157.13 268.013,-167.0878 273.4331,-162.658\"/>\n<text text-anchor=\"middle\" x=\"261.8941\" y=\"-178.3046\" font-family=\"Times,serif\" font-size=\"14.00\" fill=\"#000000\">True</text>\n</g>\n<!-- 4 -->\n<g id=\"node5\" class=\"node\">\n<title>4</title>\n<polygon fill=\"#e58139\" fill-opacity=\"0.925490\" stroke=\"#000000\" points=\"485,-157 328,-157 328,-89 485,-89 485,-157\"/>\n<text text-anchor=\"middle\" x=\"406.5\" y=\"-141.8\" font-family=\"Times,serif\" font-size=\"14.00\" fill=\"#000000\">cons.conf.idx &lt;= &#45;46.65</text>\n<text text-anchor=\"middle\" x=\"406.5\" y=\"-126.8\" font-family=\"Times,serif\" font-size=\"14.00\" fill=\"#000000\">samples = 87.9%</text>\n<text text-anchor=\"middle\" x=\"406.5\" y=\"-111.8\" font-family=\"Times,serif\" font-size=\"14.00\" fill=\"#000000\">value = [0.932, 0.068]</text>\n<text text-anchor=\"middle\" x=\"406.5\" y=\"-96.8\" font-family=\"Times,serif\" font-size=\"14.00\" fill=\"#000000\">class = No</text>\n</g>\n<!-- 0&#45;&gt;4 -->\n<g id=\"edge4\" class=\"edge\">\n<title>0&#45;&gt;4</title>\n<path fill=\"none\" stroke=\"#000000\" d=\"M349.3322,-192.9465C356.597,-184.0578 364.5136,-174.3716 372.076,-165.1188\"/>\n<polygon fill=\"#000000\" stroke=\"#000000\" points=\"374.987,-167.0878 378.6053,-157.13 369.5669,-162.658 374.987,-167.0878\"/>\n<text text-anchor=\"middle\" x=\"381.1059\" y=\"-178.3046\" font-family=\"Times,serif\" font-size=\"14.00\" fill=\"#000000\">False</text>\n</g>\n<!-- 2 -->\n<g id=\"node3\" class=\"node\">\n<title>2</title>\n<polygon fill=\"#399de5\" fill-opacity=\"0.568627\" stroke=\"#000000\" points=\"147,-53 0,-53 0,0 147,0 147,-53\"/>\n<text text-anchor=\"middle\" x=\"73.5\" y=\"-37.8\" font-family=\"Times,serif\" font-size=\"14.00\" fill=\"#000000\">samples = 3.0%</text>\n<text text-anchor=\"middle\" x=\"73.5\" y=\"-22.8\" font-family=\"Times,serif\" font-size=\"14.00\" fill=\"#000000\">value = [0.301, 0.699]</text>\n<text text-anchor=\"middle\" x=\"73.5\" y=\"-7.8\" font-family=\"Times,serif\" font-size=\"14.00\" fill=\"#000000\">class = Yes</text>\n</g>\n<!-- 1&#45;&gt;2 -->\n<g id=\"edge2\" class=\"edge\">\n<title>1&#45;&gt;2</title>\n<path fill=\"none\" stroke=\"#000000\" d=\"M179.0323,-88.9777C162.2504,-79.0424 143.9754,-68.2232 127.4214,-58.4228\"/>\n<polygon fill=\"#000000\" stroke=\"#000000\" points=\"128.8103,-55.1777 118.4222,-53.095 125.2442,-61.2013 128.8103,-55.1777\"/>\n</g>\n<!-- 3 -->\n<g id=\"node4\" class=\"node\">\n<title>3</title>\n<polygon fill=\"#e58139\" fill-opacity=\"0.454902\" stroke=\"#000000\" points=\"312,-53 165,-53 165,0 312,0 312,-53\"/>\n<text text-anchor=\"middle\" x=\"238.5\" y=\"-37.8\" font-family=\"Times,serif\" font-size=\"14.00\" fill=\"#000000\">samples = 9.1%</text>\n<text text-anchor=\"middle\" x=\"238.5\" y=\"-22.8\" font-family=\"Times,serif\" font-size=\"14.00\" fill=\"#000000\">value = [0.647, 0.353]</text>\n<text text-anchor=\"middle\" x=\"238.5\" y=\"-7.8\" font-family=\"Times,serif\" font-size=\"14.00\" fill=\"#000000\">class = No</text>\n</g>\n<!-- 1&#45;&gt;3 -->\n<g id=\"edge3\" class=\"edge\">\n<title>1&#45;&gt;3</title>\n<path fill=\"none\" stroke=\"#000000\" d=\"M237.2051,-88.9777C237.3759,-80.7364 237.5593,-71.887 237.7328,-63.5153\"/>\n<polygon fill=\"#000000\" stroke=\"#000000\" points=\"241.2376,-63.3189 237.9456,-53.2485 234.2391,-63.1738 241.2376,-63.3189\"/>\n</g>\n<!-- 5 -->\n<g id=\"node6\" class=\"node\">\n<title>5</title>\n<polygon fill=\"#e58139\" fill-opacity=\"0.729412\" stroke=\"#000000\" points=\"479,-53 332,-53 332,0 479,0 479,-53\"/>\n<text text-anchor=\"middle\" x=\"405.5\" y=\"-37.8\" font-family=\"Times,serif\" font-size=\"14.00\" fill=\"#000000\">samples = 6.5%</text>\n<text text-anchor=\"middle\" x=\"405.5\" y=\"-22.8\" font-family=\"Times,serif\" font-size=\"14.00\" fill=\"#000000\">value = [0.787, 0.213]</text>\n<text text-anchor=\"middle\" x=\"405.5\" y=\"-7.8\" font-family=\"Times,serif\" font-size=\"14.00\" fill=\"#000000\">class = No</text>\n</g>\n<!-- 4&#45;&gt;5 -->\n<g id=\"edge5\" class=\"edge\">\n<title>4&#45;&gt;5</title>\n<path fill=\"none\" stroke=\"#000000\" d=\"M406.1474,-88.9777C406.062,-80.7364 405.9703,-71.887 405.8836,-63.5153\"/>\n<polygon fill=\"#000000\" stroke=\"#000000\" points=\"409.3807,-63.2116 405.7772,-53.2485 402.3811,-63.2842 409.3807,-63.2116\"/>\n</g>\n<!-- 6 -->\n<g id=\"node7\" class=\"node\">\n<title>6</title>\n<polygon fill=\"#e58139\" fill-opacity=\"0.941176\" stroke=\"#000000\" points=\"644,-53 497,-53 497,0 644,0 644,-53\"/>\n<text text-anchor=\"middle\" x=\"570.5\" y=\"-37.8\" font-family=\"Times,serif\" font-size=\"14.00\" fill=\"#000000\">samples = 81.4%</text>\n<text text-anchor=\"middle\" x=\"570.5\" y=\"-22.8\" font-family=\"Times,serif\" font-size=\"14.00\" fill=\"#000000\">value = [0.944, 0.056]</text>\n<text text-anchor=\"middle\" x=\"570.5\" y=\"-7.8\" font-family=\"Times,serif\" font-size=\"14.00\" fill=\"#000000\">class = No</text>\n</g>\n<!-- 4&#45;&gt;6 -->\n<g id=\"edge6\" class=\"edge\">\n<title>4&#45;&gt;6</title>\n<path fill=\"none\" stroke=\"#000000\" d=\"M464.3203,-88.9777C481.2052,-79.0424 499.5922,-68.2232 516.2478,-58.4228\"/>\n<polygon fill=\"#000000\" stroke=\"#000000\" points=\"518.4585,-61.183 525.3022,-53.095 514.9086,-55.1499 518.4585,-61.183\"/>\n</g>\n</g>\n</svg>\n"
          },
          "metadata": {
            "tags": []
          },
          "execution_count": 26
        }
      ]
    },
    {
      "cell_type": "markdown",
      "metadata": {
        "id": "w2I8XUG1CsRS",
        "colab_type": "text"
      },
      "source": [
        "### Logistic Regression\n",
        "\n",
        "Logistic Regression is another great option for fast, first baselines!"
      ]
    },
    {
      "cell_type": "code",
      "metadata": {
        "id": "qKb0JKiQCsRS",
        "colab_type": "code",
        "outputId": "8d535bf6-b1b8-488f-c651-0d6ba937f2d1",
        "colab": {
          "base_uri": "https://localhost:8080/",
          "height": 35
        }
      },
      "source": [
        "from sklearn.linear_model import LogisticRegression\n",
        "model = LogisticRegression(solver='lbfgs', max_iter=1000)\n",
        "model.fit(X_train_numeric, y_train)\n",
        "y_pred_proba = model.predict_proba(X_val_numeric)[:,1]\n",
        "roc_auc_score(y_val, y_pred_proba)"
      ],
      "execution_count": 0,
      "outputs": [
        {
          "output_type": "execute_result",
          "data": {
            "text/plain": [
              "0.750509677006014"
            ]
          },
          "metadata": {
            "tags": []
          },
          "execution_count": 27
        }
      ]
    },
    {
      "cell_type": "markdown",
      "metadata": {
        "id": "0rt51woWCsRV",
        "colab_type": "text"
      },
      "source": [
        "### With Scaler\n",
        "https://scikit-learn.org/stable/modules/preprocessing.html"
      ]
    },
    {
      "cell_type": "code",
      "metadata": {
        "id": "gscxpVebCsRW",
        "colab_type": "code",
        "colab": {}
      },
      "source": [
        "import warnings\n",
        "from sklearn.exceptions import DataConversionWarning\n",
        "warnings.filterwarnings(action='ignore', category=DataConversionWarning)"
      ],
      "execution_count": 0,
      "outputs": []
    },
    {
      "cell_type": "code",
      "metadata": {
        "id": "AJInG4qyCsRa",
        "colab_type": "code",
        "outputId": "6e6bf7c0-61ab-4907-a534-8fbb5053b2e3",
        "colab": {
          "base_uri": "https://localhost:8080/",
          "height": 35
        }
      },
      "source": [
        "from sklearn.preprocessing import StandardScaler\n",
        "\n",
        "scaler = StandardScaler()\n",
        "X_train_scaled = scaler.fit_transform(X_train_numeric)\n",
        "X_val_scaled = scaler.fit_transform(X_val_numeric)\n",
        "\n",
        "model = LogisticRegression(solver='lbfgs', max_iter=1000)\n",
        "model.fit(X_train_scaled, y_train)\n",
        "y_pred_proba = model.predict_proba(X_val_scaled)[:,1]\n",
        "roc_auc_score(y_val, y_pred_proba)"
      ],
      "execution_count": 0,
      "outputs": [
        {
          "output_type": "execute_result",
          "data": {
            "text/plain": [
              "0.7559338480184106"
            ]
          },
          "metadata": {
            "tags": []
          },
          "execution_count": 29
        }
      ]
    },
    {
      "cell_type": "markdown",
      "metadata": {
        "id": "dWBrlosUCsRe",
        "colab_type": "text"
      },
      "source": [
        "### Same, as a pipeline"
      ]
    },
    {
      "cell_type": "code",
      "metadata": {
        "id": "T1jt0PFzCsRf",
        "colab_type": "code",
        "outputId": "3dbc57bc-512b-430d-ad09-889ff3e3866c",
        "colab": {
          "base_uri": "https://localhost:8080/",
          "height": 35
        }
      },
      "source": [
        "from sklearn.pipeline import make_pipeline\n",
        "\n",
        "pipeline = make_pipeline(\n",
        "  StandardScaler(),\n",
        "  LogisticRegression(solver='lbfgs', max_iter=1000)\n",
        "  )\n",
        "\n",
        "pipeline.fit(X_train_numeric, y_train)\n",
        "y_pred_proba = pipeline.predict_proba(X_val_numeric)[:,1]\n",
        "roc_auc_score(y_val, y_pred_proba)"
      ],
      "execution_count": 0,
      "outputs": [
        {
          "output_type": "execute_result",
          "data": {
            "text/plain": [
              "0.7559297542271977"
            ]
          },
          "metadata": {
            "tags": []
          },
          "execution_count": 30
        }
      ]
    },
    {
      "cell_type": "markdown",
      "metadata": {
        "id": "8HB84PtYCsRi",
        "colab_type": "text"
      },
      "source": [
        "### Encode \"low cardinality\" categoricals"
      ]
    },
    {
      "cell_type": "markdown",
      "metadata": {
        "id": "DehSv65TCsRm",
        "colab_type": "text"
      },
      "source": [
        "[Cardinality](https://simple.wikipedia.org/wiki/Cardinality) means the number of unique values that a feature has:\n",
        "> In mathematics, the cardinality of a set means the number of its elements. For example, the set A = {2, 4, 6} contains 3 elements, and therefore A has a cardinality of 3. \n",
        "\n",
        "One-hot encoding adds a dimension for each unique value of each categorical feature. So, it may not be a good choice for \"high cardinality\" categoricals that have dozens, hundreds, or thousands of unique values. \n",
        "\n",
        "In this dataset, all the categoricals seem to be \"low cardinality\", so we can use one-hot encoding."
      ]
    },
    {
      "cell_type": "code",
      "metadata": {
        "id": "Qn5RdyWlCsRx",
        "colab_type": "code",
        "outputId": "ffdd700b-06a1-448e-8d34-a1f57a0ffc64",
        "colab": {
          "base_uri": "https://localhost:8080/",
          "height": 215
        }
      },
      "source": [
        "X_train.select_dtypes(exclude='number').nunique()"
      ],
      "execution_count": 0,
      "outputs": [
        {
          "output_type": "execute_result",
          "data": {
            "text/plain": [
              "job            12\n",
              "marital         4\n",
              "education       8\n",
              "default         3\n",
              "housing         3\n",
              "loan            3\n",
              "contact         2\n",
              "month          10\n",
              "day_of_week     5\n",
              "poutcome        3\n",
              "dtype: int64"
            ]
          },
          "metadata": {
            "tags": []
          },
          "execution_count": 31
        }
      ]
    },
    {
      "cell_type": "markdown",
      "metadata": {
        "id": "o5kxIot6CsR4",
        "colab_type": "text"
      },
      "source": [
        "#### Install the [Category Encoders](https://github.com/scikit-learn-contrib/categorical-encoding) library\n",
        "\n",
        "If you're running on Google Colab:\n",
        "\n",
        "```\n",
        "!pip install category_encoders\n",
        "```\n",
        "\n",
        "If you're running locally with Anaconda:\n",
        "\n",
        "```\n",
        "!conda install -c conda-forge category_encoders\n",
        "```"
      ]
    },
    {
      "cell_type": "code",
      "metadata": {
        "id": "Dh1oo1IUCsR4",
        "colab_type": "code",
        "outputId": "f3026093-4a87-419b-9470-25aedde4f03e",
        "colab": {
          "base_uri": "https://localhost:8080/",
          "height": 289
        }
      },
      "source": [
        "!pip install category_encoders"
      ],
      "execution_count": 0,
      "outputs": [
        {
          "output_type": "stream",
          "text": [
            "Collecting category_encoders\n",
            "\u001b[?25l  Downloading https://files.pythonhosted.org/packages/6e/a1/f7a22f144f33be78afeb06bfa78478e8284a64263a3c09b1ef54e673841e/category_encoders-2.0.0-py2.py3-none-any.whl (87kB)\n",
            "\u001b[K     |████████████████████████████████| 92kB 5.6MB/s \n",
            "\u001b[?25hRequirement already satisfied: scikit-learn>=0.20.0 in /usr/local/lib/python3.6/dist-packages (from category_encoders) (0.20.3)\n",
            "Requirement already satisfied: statsmodels>=0.6.1 in /usr/local/lib/python3.6/dist-packages (from category_encoders) (0.9.0)\n",
            "Requirement already satisfied: numpy>=1.11.3 in /usr/local/lib/python3.6/dist-packages (from category_encoders) (1.16.3)\n",
            "Requirement already satisfied: patsy>=0.4.1 in /usr/local/lib/python3.6/dist-packages (from category_encoders) (0.5.1)\n",
            "Requirement already satisfied: pandas>=0.21.1 in /usr/local/lib/python3.6/dist-packages (from category_encoders) (0.24.2)\n",
            "Requirement already satisfied: scipy>=0.19.0 in /usr/local/lib/python3.6/dist-packages (from category_encoders) (1.2.1)\n",
            "Requirement already satisfied: six in /usr/local/lib/python3.6/dist-packages (from patsy>=0.4.1->category_encoders) (1.12.0)\n",
            "Requirement already satisfied: python-dateutil>=2.5.0 in /usr/local/lib/python3.6/dist-packages (from pandas>=0.21.1->category_encoders) (2.5.3)\n",
            "Requirement already satisfied: pytz>=2011k in /usr/local/lib/python3.6/dist-packages (from pandas>=0.21.1->category_encoders) (2018.9)\n",
            "Installing collected packages: category-encoders\n",
            "Successfully installed category-encoders-2.0.0\n"
          ],
          "name": "stdout"
        }
      ]
    },
    {
      "cell_type": "code",
      "metadata": {
        "id": "wfuMllnUbXWy",
        "colab_type": "code",
        "outputId": "58903c91-5b39-4cea-d98b-596390348e1a",
        "colab": {
          "base_uri": "https://localhost:8080/",
          "height": 35
        }
      },
      "source": [
        "import category_encoders as ce\n",
        "pipeline = make_pipeline(\n",
        "  ce.OneHotEncoder(use_cat_names=True),\n",
        "  StandardScaler(),\n",
        "  LogisticRegression(solver='lbfgs', max_iter=1000)\n",
        ")\n",
        "\n",
        "pipeline.fit(X_train, y_train)\n",
        "y_pred_proba = pipeline.predict_proba(X_val)[:,1]\n",
        "roc_auc_score(y_val, y_pred_proba)"
      ],
      "execution_count": 0,
      "outputs": [
        {
          "output_type": "execute_result",
          "data": {
            "text/plain": [
              "0.7938238814176062"
            ]
          },
          "metadata": {
            "tags": []
          },
          "execution_count": 33
        }
      ]
    },
    {
      "cell_type": "code",
      "metadata": {
        "id": "We4vISLWcx6g",
        "colab_type": "code",
        "outputId": "3345190f-9df6-4956-8a47-7b5fbd87dbb9",
        "colab": {
          "base_uri": "https://localhost:8080/",
          "height": 35
        }
      },
      "source": [
        "pipeline = make_pipeline(\n",
        "  ce.OneHotEncoder(use_cat_names=True),\n",
        "  StandardScaler(),\n",
        "  DecisionTreeClassifier(max_depth=5)\n",
        ")\n",
        "\n",
        "pipeline.fit(X_train, y_train)\n",
        "y_pred_proba = pipeline.predict_proba(X_val)[:,1]\n",
        "roc_auc_score(y_val, y_pred_proba)"
      ],
      "execution_count": 0,
      "outputs": [
        {
          "output_type": "execute_result",
          "data": {
            "text/plain": [
              "0.7669804830550818"
            ]
          },
          "metadata": {
            "tags": []
          },
          "execution_count": 34
        }
      ]
    },
    {
      "cell_type": "markdown",
      "metadata": {
        "id": "HRcJyXNYCsSD",
        "colab_type": "text"
      },
      "source": [
        "# Baseline with cross-validation + independent test set\n",
        "A complete example, as an alternative to Train/Validate/Test\n",
        "\n",
        "\n",
        "#### scikit-learn documentation\n",
        "- [`sklearn.model_selection.cross_val_score`](https://scikit-learn.org/stable/modules/generated/sklearn.model_selection.cross_val_score.html)\n",
        "- [ The `scoring` parameter: defining model evaluation rules](https://scikit-learn.org/stable/modules/model_evaluation.html#the-scoring-parameter-defining-model-evaluation-rules)"
      ]
    },
    {
      "cell_type": "code",
      "metadata": {
        "id": "4tvaKtGqCsSS",
        "colab_type": "code",
        "outputId": "9b921ced-e159-49dc-9ea8-3e5584179d2d",
        "colab": {
          "base_uri": "https://localhost:8080/",
          "height": 89
        }
      },
      "source": [
        "# Imports\n",
        "%matplotlib inline\n",
        "import warnings\n",
        "import category_encoders as ce\n",
        "import matplotlib.pyplot as plt\n",
        "import pandas as pd\n",
        "from sklearn.linear_model import LogisticRegression\n",
        "from sklearn.model_selection import cross_val_score\n",
        "from sklearn.pipeline import make_pipeline\n",
        "from sklearn.exceptions import DataConversionWarning\n",
        "from sklearn.preprocessing import StandardScaler\n",
        "warnings.filterwarnings(action='ignore', category=DataConversionWarning)\n",
        "\n",
        "# Load data\n",
        "bank = pd.read_csv('bank-additional/bank-additional-full.csv', sep=';')\n",
        "\n",
        "# Assign to X, y\n",
        "X = bank.drop(columns='y')\n",
        "y = bank['y'] == 'yes'\n",
        "\n",
        "# Drop leaky & random features\n",
        "X = X.drop(columns='duration')\n",
        "\n",
        "# Split Train, Test\n",
        "X_train, X_test, y_train, y_test = train_test_split(\n",
        "    X, y, test_size=0.2, random_state=42, stratify=y)\n",
        "\n",
        "# Make pipeline\n",
        "pipeline = make_pipeline(\n",
        "    ce.OneHotEncoder(use_cat_names=True), \n",
        "    StandardScaler(), \n",
        "    LogisticRegression(solver='lbfgs', max_iter=1000)\n",
        ")\n",
        "\n",
        "# Cross-validate with training data\n",
        "scores = cross_val_score(pipeline, X_train, y_train, scoring='roc_auc',\n",
        "                         cv=10, n_jobs=-1, verbose=10)"
      ],
      "execution_count": 0,
      "outputs": [
        {
          "output_type": "stream",
          "text": [
            "[Parallel(n_jobs=-1)]: Using backend LokyBackend with 2 concurrent workers.\n",
            "[Parallel(n_jobs=-1)]: Done   1 tasks      | elapsed:    4.2s\n",
            "[Parallel(n_jobs=-1)]: Done   4 tasks      | elapsed:    8.3s\n",
            "[Parallel(n_jobs=-1)]: Done  10 out of  10 | elapsed:   14.5s finished\n"
          ],
          "name": "stderr"
        }
      ]
    },
    {
      "cell_type": "markdown",
      "metadata": {
        "id": "m8lk8n79CsSa",
        "colab_type": "text"
      },
      "source": [
        "This is the baseline score that more sophisticated models must beat. "
      ]
    },
    {
      "cell_type": "code",
      "metadata": {
        "id": "FeeBfVlMCsSq",
        "colab_type": "code",
        "outputId": "8da5414f-0580-43be-9e91-15cd33fc9e30",
        "colab": {
          "base_uri": "https://localhost:8080/",
          "height": 71
        }
      },
      "source": [
        "print('Cross-Validation ROC AUC scores:', scores)\n",
        "print('Average:', scores.mean())"
      ],
      "execution_count": 0,
      "outputs": [
        {
          "output_type": "stream",
          "text": [
            "Cross-Validation ROC AUC scores: [0.82042478 0.79227573 0.79162088 0.762977   0.78662274 0.78877613\n",
            " 0.76414311 0.79607284 0.80670867 0.77968487]\n",
            "Average: 0.7889306746390174\n"
          ],
          "name": "stdout"
        }
      ]
    },
    {
      "cell_type": "markdown",
      "metadata": {
        "id": "3vvaBrnqCsSz",
        "colab_type": "text"
      },
      "source": [
        "Is more effort justified? It depends. The blogpost [\"Always start with a stupid model\"](https://blog.insightdatascience.com/always-start-with-a-stupid-model-no-exceptions-3a22314b9aaa) explains,\n",
        "\n",
        "> Here is a very common story: a team wants to implement a model to predict something like the probability of a user clicking an ad. They start with a logistic regression and quickly (after some minor tuning) reach 90% accuracy.\n",
        "\n",
        "> From there, the question is: Should the team focus on getting the accuracy up to 95%, or should they solve other problems 90% of the way?\n",
        "\n",
        "> ***If a baseline does well, then you’ve saved yourself the headache of setting up a more complex model. If it does poorly, the kind of mistakes it makes are very instructive*** ...\n",
        "\n",
        "So what else can we learn from this baseline? \n",
        "\n",
        "[\"Always start with a stupid model\"](https://blog.insightdatascience.com/always-start-with-a-stupid-model-no-exceptions-3a22314b9aaa) suggests to look at\n",
        "\n",
        "> **What type of signal your model picks up on.** Most baselines will allow you to extract ***feature importances***, revealing which aspects of the input are most predictive. Analyzing feature importance is a great way to realize how your model is making decisions, and what it might be missing.\n",
        "\n",
        "We can do that:"
      ]
    },
    {
      "cell_type": "code",
      "metadata": {
        "id": "HIA7jvkiCsS0",
        "colab_type": "code",
        "outputId": "a5304404-97ed-4c41-c33b-77a6f5081563",
        "colab": {
          "base_uri": "https://localhost:8080/",
          "height": 1695
        }
      },
      "source": [
        "# (Re)fit on training data\n",
        "pipeline.fit(X_train, y_train)\n",
        "\n",
        "# Visualize coefficients\n",
        "plt.figure(figsize=(10,30))\n",
        "plt.title('Coefficients')\n",
        "coefficients = pipeline.named_steps['logisticregression'].coef_[0]\n",
        "feature_names = pipeline.named_steps['onehotencoder'].transform(X_train).columns\n",
        "pd.Series(coefficients, feature_names).sort_values().plot.barh(color='gray');"
      ],
      "execution_count": 0,
      "outputs": [
        {
          "output_type": "display_data",
          "data": {
            "image/png": "[encoded data removed]",
            "text/plain": [
              "<Figure size 720x2160 with 1 Axes>"
            ]
          },
          "metadata": {
            "tags": []
          }
        }
      ]
    },
    {
      "cell_type": "markdown",
      "metadata": {
        "id": "U_mGsOEsCsS5",
        "colab_type": "text"
      },
      "source": [
        "[The post](https://blog.insightdatascience.com/always-start-with-a-stupid-model-no-exceptions-3a22314b9aaa) also recommends we consider, \n",
        "\n",
        "> **What signal your model is missing.** If there is a certain aspect of the data that seems intuitively important but that your model is ignoring, ***a good next step is to engineer a feature*** or pick a different model that could better leverage this particular aspect of your data."
      ]
    },
    {
      "cell_type": "markdown",
      "metadata": {
        "id": "fGqp5hgnCsS5",
        "colab_type": "text"
      },
      "source": [
        "### Look at your data (you still need to do it!)\n",
        "\n",
        "Cautionary tales\n",
        "- [Exploring the ChestXray14 dataset: problems](https://lukeoakdenrayner.wordpress.com/2017/12/18/the-chestxray14-dataset-problems/)\n",
        "- [The Quartz guide to bad data](https://github.com/Quartz/bad-data-guide)\n",
        "\n",
        "Incomplete list of issues to address\n",
        "- Categoricals (text, dates/times, high cardinality)\n",
        "- Feature Engineering (extraction, interaction, transformations)\n",
        "- Missing Values\n",
        "- Outliers"
      ]
    },
    {
      "cell_type": "markdown",
      "metadata": {
        "id": "crp7bDRuCsS7",
        "colab_type": "text"
      },
      "source": [
        "# ASSIGNMENT options\n",
        "\n",
        "- **Replicate the lesson code.** [Do it \"the hard way\" or with the \"Benjamin Franklin method.\"](https://docs.google.com/document/d/1ubOw9B3Hfip27hF2ZFnW3a3z9xAgrUDRReOEo-FHCVs/edit)\n",
        "- Apply the lesson to other datasets you've worked with before, and compare results.\n",
        "- Iterate and improve your **Bank Marketing** model. Engineer new features.\n",
        "- Get **weather** data for your own area and calculate both baselines.  _\"One (persistence) predicts that the weather tomorrow is going to be whatever it was today. The other (climatology) predicts whatever the average historical weather has been on this day from prior years.\"_ What is the mean absolute error for each baseline? What if you average the two together? \n",
        "- [This example from scikit-learn documentation](https://scikit-learn.org/stable/auto_examples/compose/plot_column_transformer_mixed_types.html) demonstrates its improved `OneHotEncoder` and new `ColumnTransformer` objects, which can replace functionality from [third-party libraries](https://github.com/scikit-learn-contrib) like category_encoders and sklearn-pandas. Adapt this example, which uses Titanic data, to work with Bank Marketing or another dataset.\n",
        "- When would this notebook's pipelines fail? How could you fix them? Add more [preprocessing](https://scikit-learn.org/stable/modules/preprocessing.html) and [imputation](https://scikit-learn.org/stable/modules/impute.html) to your [pipelines](https://scikit-learn.org/stable/modules/compose.html) with scikit-learn."
      ]
    },
    {
      "cell_type": "markdown",
      "metadata": {
        "id": "NIxQyVj_w_bd",
        "colab_type": "text"
      },
      "source": [
        "##Import"
      ]
    },
    {
      "cell_type": "code",
      "metadata": {
        "id": "CPDyBDsw57hA",
        "colab_type": "code",
        "colab": {}
      },
      "source": [
        "!pip install category_encoders"
      ],
      "execution_count": 0,
      "outputs": []
    },
    {
      "cell_type": "code",
      "metadata": {
        "id": "dDl5oPyszd-R",
        "colab_type": "code",
        "colab": {}
      },
      "source": [
        "import pandas as pd\n",
        "import matplotlib.pyplot as plt\n",
        "import numpy as np\n",
        "\n",
        "from sklearn.model_selection import train_test_split\n",
        "from sklearn.metrics import accuracy_score\n",
        "from sklearn.metrics import roc_auc_score\n",
        "from sklearn.tree import DecisionTreeClassifier\n",
        "import graphviz\n",
        "from sklearn.tree import export_graphviz\n",
        "from sklearn.linear_model import LogisticRegression\n",
        "from sklearn.preprocessing import StandardScaler\n",
        "from sklearn.pipeline import make_pipeline\n",
        "from sklearn.model_selection import cross_val_score\n",
        "from sklearn.metrics import accuracy_score\n",
        "import category_encoders as ce\n"
      ],
      "execution_count": 0,
      "outputs": []
    },
    {
      "cell_type": "code",
      "metadata": {
        "id": "vkqC7Q_cwTTY",
        "colab_type": "code",
        "colab": {}
      },
      "source": [
        "Iris = 'https://archive.ics.uci.edu/ml/machine-learning-databases/iris/iris.data'\n",
        "df = pd.read_csv(Iris, header=None, names=['sepal_length',\n",
        "                                           'sepal_width',\n",
        "                                           'petal_length',\n",
        "                                           'petal_width',\n",
        "                                           'species'])"
      ],
      "execution_count": 0,
      "outputs": []
    },
    {
      "cell_type": "markdown",
      "metadata": {
        "id": "PLdWsuoa3lBw",
        "colab_type": "text"
      },
      "source": [
        "Since this is a very small and clean dataset we will add some variation"
      ]
    },
    {
      "cell_type": "code",
      "metadata": {
        "id": "oDrsODC-3qLm",
        "colab_type": "code",
        "outputId": "9cb6e167-c0b4-4ecd-b853-cb9004eac74e",
        "colab": {
          "base_uri": "https://localhost:8080/",
          "height": 35
        }
      },
      "source": [
        "for i in range(1000):\n",
        "  df = df.append(df.sample())\n",
        "  \n",
        "df.index = range(1150)\n",
        "df.index.nunique()"
      ],
      "execution_count": 0,
      "outputs": [
        {
          "output_type": "execute_result",
          "data": {
            "text/plain": [
              "1150"
            ]
          },
          "metadata": {
            "tags": []
          },
          "execution_count": 8
        }
      ]
    },
    {
      "cell_type": "markdown",
      "metadata": {
        "id": "ha8i8_tnxDHr",
        "colab_type": "text"
      },
      "source": [
        "\n",
        "\n",
        "---\n",
        "\n"
      ]
    },
    {
      "cell_type": "markdown",
      "metadata": {
        "id": "9QkhbBv6xDpK",
        "colab_type": "text"
      },
      "source": [
        "##Explore"
      ]
    },
    {
      "cell_type": "code",
      "metadata": {
        "id": "MZPEWOeQwgYq",
        "colab_type": "code",
        "outputId": "5745c2d1-85c2-4c4f-daf5-eb3f72bec2a5",
        "colab": {
          "base_uri": "https://localhost:8080/",
          "height": 125
        }
      },
      "source": [
        "df.isnull().sum()"
      ],
      "execution_count": 0,
      "outputs": [
        {
          "output_type": "execute_result",
          "data": {
            "text/plain": [
              "sepal_length    0\n",
              "sepal_width     0\n",
              "petal_length    0\n",
              "petal_width     0\n",
              "species         0\n",
              "dtype: int64"
            ]
          },
          "metadata": {
            "tags": []
          },
          "execution_count": 9
        }
      ]
    },
    {
      "cell_type": "code",
      "metadata": {
        "id": "k7EDe-cLzBdD",
        "colab_type": "code",
        "outputId": "29db46ac-5c4a-43fe-e9e1-cb6062b78a42",
        "colab": {
          "base_uri": "https://localhost:8080/",
          "height": 197
        }
      },
      "source": [
        "df.info()"
      ],
      "execution_count": 0,
      "outputs": [
        {
          "output_type": "stream",
          "text": [
            "<class 'pandas.core.frame.DataFrame'>\n",
            "RangeIndex: 1150 entries, 0 to 1149\n",
            "Data columns (total 5 columns):\n",
            "sepal_length    1150 non-null float64\n",
            "sepal_width     1150 non-null float64\n",
            "petal_length    1150 non-null float64\n",
            "petal_width     1150 non-null float64\n",
            "species         1150 non-null object\n",
            "dtypes: float64(4), object(1)\n",
            "memory usage: 45.0+ KB\n"
          ],
          "name": "stdout"
        }
      ]
    },
    {
      "cell_type": "code",
      "metadata": {
        "id": "ZHNJd2jp0aOi",
        "colab_type": "code",
        "outputId": "2d7cc6c3-83cf-40e8-a5e0-185e4801ac29",
        "colab": {
          "base_uri": "https://localhost:8080/",
          "height": 269
        }
      },
      "source": [
        "for col in df.drop(columns='species').columns:\n",
        "  plt.scatter(df[col], df['species'], label=col)\n",
        "  \n",
        "plt.grid()  \n",
        "plt.legend()\n",
        "plt.show();"
      ],
      "execution_count": 0,
      "outputs": [
        {
          "output_type": "display_data",
          "data": {
            "image/png": "[encoded data removed]",
            "text/plain": [
              "<Figure size 432x288 with 1 Axes>"
            ]
          },
          "metadata": {
            "tags": []
          }
        }
      ]
    },
    {
      "cell_type": "markdown",
      "metadata": {
        "id": "qG8_nvs7xHQH",
        "colab_type": "text"
      },
      "source": [
        "\n",
        "\n",
        "---\n",
        "\n"
      ]
    },
    {
      "cell_type": "markdown",
      "metadata": {
        "id": "Ri3Mgkni1O98",
        "colab_type": "text"
      },
      "source": [
        "##Model"
      ]
    },
    {
      "cell_type": "markdown",
      "metadata": {
        "id": "uVWjMC712zR9",
        "colab_type": "text"
      },
      "source": [
        "###Train, Validation, Test Split"
      ]
    },
    {
      "cell_type": "code",
      "metadata": {
        "id": "7Vw0fzrbS4dH",
        "colab_type": "code",
        "colab": {}
      },
      "source": [
        "df['species'] = df['species'].replace({'Iris-versicolor':1, 'Iris-setosa':2, 'Iris-virginica':3})"
      ],
      "execution_count": 0,
      "outputs": []
    },
    {
      "cell_type": "code",
      "metadata": {
        "id": "JwMtb7ac3D9m",
        "colab_type": "code",
        "colab": {}
      },
      "source": [
        "def three_way_split(DataFrame, Target):\n",
        "  \"\"\"\n",
        "  Given a DataFrame name and a feature(str) this function will preform a\n",
        "  three way split and return the shapes of each set.\n",
        "  \"\"\"\n",
        "  \n",
        "  # Define sets as global variables\n",
        "  global xtrain, xval, xtest, ytrain, yval, ytest, x, y\n",
        "  \n",
        "  # X and Y assignment\n",
        "  x = DataFrame.drop(columns=Target)\n",
        "  y = DataFrame[Target]\n",
        "  \n",
        "  # First split\n",
        "  xtrain, xtest, ytrain, ytest = train_test_split(\n",
        "      x,\n",
        "      y,\n",
        "      test_size=.2,\n",
        "      random_state=42,\n",
        "      stratify=y)\n",
        "  \n",
        "  # Second split\n",
        "  xtrain, xval, ytrain, yval = train_test_split(\n",
        "      xtrain,\n",
        "      ytrain,\n",
        "      test_size=.3,\n",
        "      random_state=42,\n",
        "      stratify=ytrain)\n",
        "  \n",
        "  # Return shapes\n",
        "  print(' X Train', xtrain.shape, '\\n',\n",
        "        'X Validation', xval.shape, '\\n',\n",
        "        'X Test', xtest.shape, '\\n',\n",
        "        'Y Train', ytrain.shape, '\\n',\n",
        "        'Y Validation', yval.shape, '\\n',\n",
        "        'Y Test', ytest.shape)"
      ],
      "execution_count": 0,
      "outputs": []
    },
    {
      "cell_type": "code",
      "metadata": {
        "id": "2bhqgveLWJ8P",
        "colab_type": "code",
        "outputId": "ee180f84-c2c4-4449-c928-3b72602be3d5",
        "colab": {
          "base_uri": "https://localhost:8080/",
          "height": 125
        }
      },
      "source": [
        "three_way_split(df, 'species')"
      ],
      "execution_count": 0,
      "outputs": [
        {
          "output_type": "stream",
          "text": [
            " X Train (644, 4) \n",
            " X Validation (276, 4) \n",
            " X Test (230, 4) \n",
            " Y Train (644,) \n",
            " Y Validation (276,) \n",
            " Y Test (230,)\n"
          ],
          "name": "stdout"
        }
      ]
    },
    {
      "cell_type": "markdown",
      "metadata": {
        "id": "JfIqNFdf1Qi1",
        "colab_type": "text"
      },
      "source": [
        "\n",
        "\n",
        "---\n",
        "\n"
      ]
    },
    {
      "cell_type": "markdown",
      "metadata": {
        "id": "L6R5EaTM3CKO",
        "colab_type": "text"
      },
      "source": [
        "###Majority Baseline"
      ]
    },
    {
      "cell_type": "code",
      "metadata": {
        "id": "d9X_qlru3Zf1",
        "colab_type": "code",
        "outputId": "ecb10a5d-76cf-4107-de24-39b3cc8b139a",
        "colab": {
          "base_uri": "https://localhost:8080/",
          "height": 89
        }
      },
      "source": [
        "ytrain.value_counts(normalize=True)"
      ],
      "execution_count": 0,
      "outputs": [
        {
          "output_type": "execute_result",
          "data": {
            "text/plain": [
              "1    0.363354\n",
              "3    0.338509\n",
              "2    0.298137\n",
              "Name: species, dtype: float64"
            ]
          },
          "metadata": {
            "tags": []
          },
          "execution_count": 17
        }
      ]
    },
    {
      "cell_type": "code",
      "metadata": {
        "id": "LUFPTXYy5zBR",
        "colab_type": "code",
        "colab": {}
      },
      "source": [
        "majority_class = ytrain.mode()[0]\n",
        "ypred = [majority_class] * len(yval)"
      ],
      "execution_count": 0,
      "outputs": []
    },
    {
      "cell_type": "code",
      "metadata": {
        "id": "IlpLpght55IE",
        "colab_type": "code",
        "outputId": "b42c6a77-a8d3-4cc3-89f3-a4b79ad605d9",
        "colab": {
          "base_uri": "https://localhost:8080/",
          "height": 35
        }
      },
      "source": [
        "accuracy_score(yval, ypred)"
      ],
      "execution_count": 0,
      "outputs": [
        {
          "output_type": "execute_result",
          "data": {
            "text/plain": [
              "0.36594202898550726"
            ]
          },
          "metadata": {
            "tags": []
          },
          "execution_count": 19
        }
      ]
    },
    {
      "cell_type": "markdown",
      "metadata": {
        "id": "Vzu45uWC3ZoV",
        "colab_type": "text"
      },
      "source": [
        "\n",
        "\n",
        "---\n",
        "\n"
      ]
    },
    {
      "cell_type": "markdown",
      "metadata": {
        "id": "QeC9uy6l7Uy4",
        "colab_type": "text"
      },
      "source": [
        "###Decision Stump"
      ]
    },
    {
      "cell_type": "code",
      "metadata": {
        "id": "CKnHz4vE7YT8",
        "colab_type": "code",
        "outputId": "54cc4c83-fa84-462d-fb10-201ee536fbad",
        "colab": {
          "base_uri": "https://localhost:8080/",
          "height": 35
        }
      },
      "source": [
        "stump = DecisionTreeClassifier(max_depth=1)\n",
        "stump.fit(xtrain, ytrain)\n",
        "ypred_proba = stump.predict_proba(xval)[:,1]\n",
        "stump.score(xtrain, ytrain)"
      ],
      "execution_count": 0,
      "outputs": [
        {
          "output_type": "execute_result",
          "data": {
            "text/plain": [
              "0.6614906832298136"
            ]
          },
          "metadata": {
            "tags": []
          },
          "execution_count": 20
        }
      ]
    },
    {
      "cell_type": "code",
      "metadata": {
        "id": "Es_OW_75RFcz",
        "colab_type": "code",
        "outputId": "0d02b1ee-37b4-4836-ea4f-78594e006fdf",
        "colab": {
          "base_uri": "https://localhost:8080/",
          "height": 35
        }
      },
      "source": [
        "ypred = stump.predict(xval)\n",
        "accuracy_score(yval, ypred)"
      ],
      "execution_count": 0,
      "outputs": [
        {
          "output_type": "execute_result",
          "data": {
            "text/plain": [
              "0.6630434782608695"
            ]
          },
          "metadata": {
            "tags": []
          },
          "execution_count": 21
        }
      ]
    },
    {
      "cell_type": "code",
      "metadata": {
        "id": "xPqU8-L7NvOB",
        "colab_type": "code",
        "outputId": "f9f7302e-488f-428d-d3ef-58a01a79c026",
        "colab": {
          "base_uri": "https://localhost:8080/",
          "height": 240
        }
      },
      "source": [
        "dot_data = export_graphviz(stump, out_file=None, feature_names=xtrain.columns, \n",
        "                           class_names=['Iris-versicolor', 'Iris-setosa', 'Iris-virginica'], filled=True, impurity=False, proportion=True)\n",
        "\n",
        "graphviz.Source(dot_data)"
      ],
      "execution_count": 0,
      "outputs": [
        {
          "output_type": "execute_result",
          "data": {
            "text/plain": [
              "<graphviz.files.Source at 0x7f6df59e8048>"
            ],
            "image/svg+xml": "<?xml version=\"1.0\" encoding=\"UTF-8\" standalone=\"no\"?>\n<!DOCTYPE svg PUBLIC \"-//W3C//DTD SVG 1.1//EN\"\n \"http://www.w3.org/Graphics/SVG/1.1/DTD/svg11.dtd\">\n<!-- Generated by graphviz version 2.40.1 (20161225.0304)\n -->\n<!-- Title: Tree Pages: 1 -->\n<svg width=\"342pt\" height=\"165pt\"\n viewBox=\"0.00 0.00 342.00 165.00\" xmlns=\"http://www.w3.org/2000/svg\" xmlns:xlink=\"http://www.w3.org/1999/xlink\">\n<g id=\"graph0\" class=\"graph\" transform=\"scale(1 1) rotate(0) translate(4 161)\">\n<title>Tree</title>\n<polygon fill=\"#ffffff\" stroke=\"transparent\" points=\"-4,4 -4,-161 338,-161 338,4 -4,4\"/>\n<!-- 0 -->\n<g id=\"node1\" class=\"node\">\n<title>0</title>\n<polygon fill=\"#e58139\" fill-opacity=\"0.039216\" stroke=\"#000000\" points=\"253.5,-157 65.5,-157 65.5,-89 253.5,-89 253.5,-157\"/>\n<text text-anchor=\"middle\" x=\"159.5\" y=\"-141.8\" font-family=\"Times,serif\" font-size=\"14.00\" fill=\"#000000\">petal_width &lt;= 0.8</text>\n<text text-anchor=\"middle\" x=\"159.5\" y=\"-126.8\" font-family=\"Times,serif\" font-size=\"14.00\" fill=\"#000000\">samples = 100.0%</text>\n<text text-anchor=\"middle\" x=\"159.5\" y=\"-111.8\" font-family=\"Times,serif\" font-size=\"14.00\" fill=\"#000000\">value = [0.363, 0.298, 0.339]</text>\n<text text-anchor=\"middle\" x=\"159.5\" y=\"-96.8\" font-family=\"Times,serif\" font-size=\"14.00\" fill=\"#000000\">class = Iris&#45;versicolor</text>\n</g>\n<!-- 1 -->\n<g id=\"node2\" class=\"node\">\n<title>1</title>\n<polygon fill=\"#39e581\" stroke=\"#000000\" points=\"143,-53 0,-53 0,0 143,0 143,-53\"/>\n<text text-anchor=\"middle\" x=\"71.5\" y=\"-37.8\" font-family=\"Times,serif\" font-size=\"14.00\" fill=\"#000000\">samples = 29.8%</text>\n<text text-anchor=\"middle\" x=\"71.5\" y=\"-22.8\" font-family=\"Times,serif\" font-size=\"14.00\" fill=\"#000000\">value = [0.0, 1.0, 0.0]</text>\n<text text-anchor=\"middle\" x=\"71.5\" y=\"-7.8\" font-family=\"Times,serif\" font-size=\"14.00\" fill=\"#000000\">class = Iris&#45;setosa</text>\n</g>\n<!-- 0&#45;&gt;1 -->\n<g id=\"edge1\" class=\"edge\">\n<title>0&#45;&gt;1</title>\n<path fill=\"none\" stroke=\"#000000\" d=\"M128.4745,-88.9777C120.1241,-79.8207 111.089,-69.9129 102.7276,-60.744\"/>\n<polygon fill=\"#000000\" stroke=\"#000000\" points=\"105.2167,-58.2791 95.8924,-53.2485 100.0444,-62.9959 105.2167,-58.2791\"/>\n<text text-anchor=\"middle\" x=\"94.7419\" y=\"-74.522\" font-family=\"Times,serif\" font-size=\"14.00\" fill=\"#000000\">True</text>\n</g>\n<!-- 2 -->\n<g id=\"node3\" class=\"node\">\n<title>2</title>\n<polygon fill=\"#e58139\" fill-opacity=\"0.066667\" stroke=\"#000000\" points=\"334,-53 161,-53 161,0 334,0 334,-53\"/>\n<text text-anchor=\"middle\" x=\"247.5\" y=\"-37.8\" font-family=\"Times,serif\" font-size=\"14.00\" fill=\"#000000\">samples = 70.2%</text>\n<text text-anchor=\"middle\" x=\"247.5\" y=\"-22.8\" font-family=\"Times,serif\" font-size=\"14.00\" fill=\"#000000\">value = [0.518, 0.0, 0.482]</text>\n<text text-anchor=\"middle\" x=\"247.5\" y=\"-7.8\" font-family=\"Times,serif\" font-size=\"14.00\" fill=\"#000000\">class = Iris&#45;versicolor</text>\n</g>\n<!-- 0&#45;&gt;2 -->\n<g id=\"edge2\" class=\"edge\">\n<title>0&#45;&gt;2</title>\n<path fill=\"none\" stroke=\"#000000\" d=\"M190.5255,-88.9777C198.8759,-79.8207 207.911,-69.9129 216.2724,-60.744\"/>\n<polygon fill=\"#000000\" stroke=\"#000000\" points=\"218.9556,-62.9959 223.1076,-53.2485 213.7833,-58.2791 218.9556,-62.9959\"/>\n<text text-anchor=\"middle\" x=\"224.2581\" y=\"-74.522\" font-family=\"Times,serif\" font-size=\"14.00\" fill=\"#000000\">False</text>\n</g>\n</g>\n</svg>\n"
          },
          "metadata": {
            "tags": []
          },
          "execution_count": 22
        }
      ]
    },
    {
      "cell_type": "markdown",
      "metadata": {
        "id": "90Dv4KKj7YcP",
        "colab_type": "text"
      },
      "source": [
        "\n",
        "\n",
        "---\n",
        "\n"
      ]
    },
    {
      "cell_type": "markdown",
      "metadata": {
        "id": "AsfFgguldSZI",
        "colab_type": "text"
      },
      "source": [
        "###Cross Validation"
      ]
    },
    {
      "cell_type": "code",
      "metadata": {
        "id": "yoFyIKcCdR_L",
        "colab_type": "code",
        "colab": {}
      },
      "source": [
        "pipeline = make_pipeline(\n",
        "  ce.OneHotEncoder(use_cat_names=True),\n",
        "  StandardScaler(),\n",
        "  LogisticRegression(solver='lbfgs', max_iter=1000))"
      ],
      "execution_count": 0,
      "outputs": []
    },
    {
      "cell_type": "code",
      "metadata": {
        "id": "vHZHY0iCdlYU",
        "colab_type": "code",
        "outputId": "fdeef4e3-7588-40d2-a11c-84f2046cd73a",
        "colab": {
          "base_uri": "https://localhost:8080/",
          "height": 109
        }
      },
      "source": [
        "scores = cross_val_score(pipeline, xtrain, ytrain, scoring='accuracy', cv=10, n_jobs=-1, verbose=10)"
      ],
      "execution_count": 0,
      "outputs": [
        {
          "output_type": "stream",
          "text": [
            "[Parallel(n_jobs=-1)]: Using backend LokyBackend with 2 concurrent workers.\n",
            "[Parallel(n_jobs=-1)]: Done   1 tasks      | elapsed:    2.2s\n",
            "[Parallel(n_jobs=-1)]: Done   4 tasks      | elapsed:    2.3s\n",
            "[Parallel(n_jobs=-1)]: Done  10 out of  10 | elapsed:    2.4s finished\n"
          ],
          "name": "stderr"
        }
      ]
    },
    {
      "cell_type": "code",
      "metadata": {
        "id": "wwwVmFFKe3Bu",
        "colab_type": "code",
        "outputId": "9a3bcfb4-b46f-42a6-8ed7-2877b8a7276c",
        "colab": {
          "base_uri": "https://localhost:8080/",
          "height": 127
        }
      },
      "source": [
        "print('Cross-Validation accuracy scores:', scores,'\\n\\n')\n",
        "print('Average:', scores.mean())"
      ],
      "execution_count": 0,
      "outputs": [
        {
          "output_type": "stream",
          "text": [
            "Cross-Validation accuracy scores: [0.96969697 1.         0.96923077 0.96923077 0.96875    0.953125\n",
            " 1.         0.953125   0.92063492 0.98412698] \n",
            "\n",
            "\n",
            "Average: 0.9687920412920412\n"
          ],
          "name": "stdout"
        }
      ]
    },
    {
      "cell_type": "markdown",
      "metadata": {
        "id": "8xjm4YDudTAQ",
        "colab_type": "text"
      },
      "source": [
        "\n",
        "\n",
        "---\n",
        "\n"
      ]
    },
    {
      "cell_type": "markdown",
      "metadata": {
        "id": "YN7gjpSAxt40",
        "colab_type": "text"
      },
      "source": [
        "###Visualize Coefficients"
      ]
    },
    {
      "cell_type": "code",
      "metadata": {
        "id": "W27YT5hOxR7u",
        "colab_type": "code",
        "outputId": "facb237d-cc26-40fc-8630-2c07a6357260",
        "colab": {
          "base_uri": "https://localhost:8080/",
          "height": 1751
        }
      },
      "source": [
        "# (Re)fit on training data\n",
        "pipeline.fit(xtrain, ytrain)\n",
        "\n",
        "# Visualize coefficients\n",
        "plt.figure(figsize=(10,30))\n",
        "plt.title('Coefficients')\n",
        "\n",
        "coefficients = pipeline.named_steps['logisticregression'].coef_[0]\n",
        "\n",
        "feature_names = pipeline.named_steps['onehotencoder'].transform(xtrain).columns\n",
        "\n",
        "pd.Series(coefficients, feature_names).sort_values().plot.barh(color='red')\n",
        "plt.grid()\n",
        "plt.show();"
      ],
      "execution_count": 0,
      "outputs": [
        {
          "output_type": "stream",
          "text": [
            "/usr/local/lib/python3.6/dist-packages/sklearn/linear_model/logistic.py:460: FutureWarning: Default multi_class will be changed to 'auto' in 0.22. Specify the multi_class option to silence this warning.\n",
            "  \"this warning.\", FutureWarning)\n"
          ],
          "name": "stderr"
        },
        {
          "output_type": "display_data",
          "data": {
            "image/png": "[encoded data removed]",
            "text/plain": [
              "<Figure size 720x2160 with 1 Axes>"
            ]
          },
          "metadata": {
            "tags": []
          }
        }
      ]
    },
    {
      "cell_type": "markdown",
      "metadata": {
        "id": "JWE3OP2x8PwS",
        "colab_type": "text"
      },
      "source": [
        "###Logistic Regression From Scratch"
      ]
    },
    {
      "cell_type": "code",
      "metadata": {
        "id": "tgZWhlTL_utK",
        "colab_type": "code",
        "colab": {}
      },
      "source": [
        "from sklearn.datasets import load_iris"
      ],
      "execution_count": 0,
      "outputs": []
    },
    {
      "cell_type": "code",
      "metadata": {
        "id": "KKMqCcnD_2vt",
        "colab_type": "code",
        "colab": {}
      },
      "source": [
        "iris=load_iris()"
      ],
      "execution_count": 0,
      "outputs": []
    },
    {
      "cell_type": "code",
      "metadata": {
        "id": "uFhcLFNtABKw",
        "colab_type": "code",
        "colab": {}
      },
      "source": [
        "X = iris.data\n",
        "y = iris.target"
      ],
      "execution_count": 0,
      "outputs": []
    },
    {
      "cell_type": "code",
      "metadata": {
        "id": "dvaF5VYvDB5h",
        "colab_type": "code",
        "outputId": "44385c70-d112-4896-d7d8-3b97fe8778f4",
        "colab": {
          "base_uri": "https://localhost:8080/",
          "height": 2989
        }
      },
      "source": [
        "iris"
      ],
      "execution_count": 0,
      "outputs": [
        {
          "output_type": "execute_result",
          "data": {
            "text/plain": [
              "{'DESCR': '.. _iris_dataset:\\n\\nIris plants dataset\\n--------------------\\n\\n**Data Set Characteristics:**\\n\\n    :Number of Instances: 150 (50 in each of three classes)\\n    :Number of Attributes: 4 numeric, predictive attributes and the class\\n    :Attribute Information:\\n        - sepal length in cm\\n        - sepal width in cm\\n        - petal length in cm\\n        - petal width in cm\\n        - class:\\n                - Iris-Setosa\\n                - Iris-Versicolour\\n                - Iris-Virginica\\n                \\n    :Summary Statistics:\\n\\n    ============== ==== ==== ======= ===== ====================\\n                    Min  Max   Mean    SD   Class Correlation\\n    ============== ==== ==== ======= ===== ====================\\n    sepal length:   4.3  7.9   5.84   0.83    0.7826\\n    sepal width:    2.0  4.4   3.05   0.43   -0.4194\\n    petal length:   1.0  6.9   3.76   1.76    0.9490  (high!)\\n    petal width:    0.1  2.5   1.20   0.76    0.9565  (high!)\\n    ============== ==== ==== ======= ===== ====================\\n\\n    :Missing Attribute Values: None\\n    :Class Distribution: 33.3% for each of 3 classes.\\n    :Creator: R.A. Fisher\\n    :Donor: Michael Marshall (MARSHALL%PLU@io.arc.nasa.gov)\\n    :Date: July, 1988\\n\\nThe famous Iris database, first used by Sir R.A. Fisher. The dataset is taken\\nfrom Fisher\\'s paper. Note that it\\'s the same as in R, but not as in the UCI\\nMachine Learning Repository, which has two wrong data points.\\n\\nThis is perhaps the best known database to be found in the\\npattern recognition literature.  Fisher\\'s paper is a classic in the field and\\nis referenced frequently to this day.  (See Duda & Hart, for example.)  The\\ndata set contains 3 classes of 50 instances each, where each class refers to a\\ntype of iris plant.  One class is linearly separable from the other 2; the\\nlatter are NOT linearly separable from each other.\\n\\n.. topic:: References\\n\\n   - Fisher, R.A. \"The use of multiple measurements in taxonomic problems\"\\n     Annual Eugenics, 7, Part II, 179-188 (1936); also in \"Contributions to\\n     Mathematical Statistics\" (John Wiley, NY, 1950).\\n   - Duda, R.O., & Hart, P.E. (1973) Pattern Classification and Scene Analysis.\\n     (Q327.D83) John Wiley & Sons.  ISBN 0-471-22361-1.  See page 218.\\n   - Dasarathy, B.V. (1980) \"Nosing Around the Neighborhood: A New System\\n     Structure and Classification Rule for Recognition in Partially Exposed\\n     Environments\".  IEEE Transactions on Pattern Analysis and Machine\\n     Intelligence, Vol. PAMI-2, No. 1, 67-71.\\n   - Gates, G.W. (1972) \"The Reduced Nearest Neighbor Rule\".  IEEE Transactions\\n     on Information Theory, May 1972, 431-433.\\n   - See also: 1988 MLC Proceedings, 54-64.  Cheeseman et al\"s AUTOCLASS II\\n     conceptual clustering system finds 3 classes in the data.\\n   - Many, many more ...',\n",
              " 'data': array([[5.1, 3.5, 1.4, 0.2],\n",
              "        [4.9, 3. , 1.4, 0.2],\n",
              "        [4.7, 3.2, 1.3, 0.2],\n",
              "        [4.6, 3.1, 1.5, 0.2],\n",
              "        [5. , 3.6, 1.4, 0.2],\n",
              "        [5.4, 3.9, 1.7, 0.4],\n",
              "        [4.6, 3.4, 1.4, 0.3],\n",
              "        [5. , 3.4, 1.5, 0.2],\n",
              "        [4.4, 2.9, 1.4, 0.2],\n",
              "        [4.9, 3.1, 1.5, 0.1],\n",
              "        [5.4, 3.7, 1.5, 0.2],\n",
              "        [4.8, 3.4, 1.6, 0.2],\n",
              "        [4.8, 3. , 1.4, 0.1],\n",
              "        [4.3, 3. , 1.1, 0.1],\n",
              "        [5.8, 4. , 1.2, 0.2],\n",
              "        [5.7, 4.4, 1.5, 0.4],\n",
              "        [5.4, 3.9, 1.3, 0.4],\n",
              "        [5.1, 3.5, 1.4, 0.3],\n",
              "        [5.7, 3.8, 1.7, 0.3],\n",
              "        [5.1, 3.8, 1.5, 0.3],\n",
              "        [5.4, 3.4, 1.7, 0.2],\n",
              "        [5.1, 3.7, 1.5, 0.4],\n",
              "        [4.6, 3.6, 1. , 0.2],\n",
              "        [5.1, 3.3, 1.7, 0.5],\n",
              "        [4.8, 3.4, 1.9, 0.2],\n",
              "        [5. , 3. , 1.6, 0.2],\n",
              "        [5. , 3.4, 1.6, 0.4],\n",
              "        [5.2, 3.5, 1.5, 0.2],\n",
              "        [5.2, 3.4, 1.4, 0.2],\n",
              "        [4.7, 3.2, 1.6, 0.2],\n",
              "        [4.8, 3.1, 1.6, 0.2],\n",
              "        [5.4, 3.4, 1.5, 0.4],\n",
              "        [5.2, 4.1, 1.5, 0.1],\n",
              "        [5.5, 4.2, 1.4, 0.2],\n",
              "        [4.9, 3.1, 1.5, 0.2],\n",
              "        [5. , 3.2, 1.2, 0.2],\n",
              "        [5.5, 3.5, 1.3, 0.2],\n",
              "        [4.9, 3.6, 1.4, 0.1],\n",
              "        [4.4, 3. , 1.3, 0.2],\n",
              "        [5.1, 3.4, 1.5, 0.2],\n",
              "        [5. , 3.5, 1.3, 0.3],\n",
              "        [4.5, 2.3, 1.3, 0.3],\n",
              "        [4.4, 3.2, 1.3, 0.2],\n",
              "        [5. , 3.5, 1.6, 0.6],\n",
              "        [5.1, 3.8, 1.9, 0.4],\n",
              "        [4.8, 3. , 1.4, 0.3],\n",
              "        [5.1, 3.8, 1.6, 0.2],\n",
              "        [4.6, 3.2, 1.4, 0.2],\n",
              "        [5.3, 3.7, 1.5, 0.2],\n",
              "        [5. , 3.3, 1.4, 0.2],\n",
              "        [7. , 3.2, 4.7, 1.4],\n",
              "        [6.4, 3.2, 4.5, 1.5],\n",
              "        [6.9, 3.1, 4.9, 1.5],\n",
              "        [5.5, 2.3, 4. , 1.3],\n",
              "        [6.5, 2.8, 4.6, 1.5],\n",
              "        [5.7, 2.8, 4.5, 1.3],\n",
              "        [6.3, 3.3, 4.7, 1.6],\n",
              "        [4.9, 2.4, 3.3, 1. ],\n",
              "        [6.6, 2.9, 4.6, 1.3],\n",
              "        [5.2, 2.7, 3.9, 1.4],\n",
              "        [5. , 2. , 3.5, 1. ],\n",
              "        [5.9, 3. , 4.2, 1.5],\n",
              "        [6. , 2.2, 4. , 1. ],\n",
              "        [6.1, 2.9, 4.7, 1.4],\n",
              "        [5.6, 2.9, 3.6, 1.3],\n",
              "        [6.7, 3.1, 4.4, 1.4],\n",
              "        [5.6, 3. , 4.5, 1.5],\n",
              "        [5.8, 2.7, 4.1, 1. ],\n",
              "        [6.2, 2.2, 4.5, 1.5],\n",
              "        [5.6, 2.5, 3.9, 1.1],\n",
              "        [5.9, 3.2, 4.8, 1.8],\n",
              "        [6.1, 2.8, 4. , 1.3],\n",
              "        [6.3, 2.5, 4.9, 1.5],\n",
              "        [6.1, 2.8, 4.7, 1.2],\n",
              "        [6.4, 2.9, 4.3, 1.3],\n",
              "        [6.6, 3. , 4.4, 1.4],\n",
              "        [6.8, 2.8, 4.8, 1.4],\n",
              "        [6.7, 3. , 5. , 1.7],\n",
              "        [6. , 2.9, 4.5, 1.5],\n",
              "        [5.7, 2.6, 3.5, 1. ],\n",
              "        [5.5, 2.4, 3.8, 1.1],\n",
              "        [5.5, 2.4, 3.7, 1. ],\n",
              "        [5.8, 2.7, 3.9, 1.2],\n",
              "        [6. , 2.7, 5.1, 1.6],\n",
              "        [5.4, 3. , 4.5, 1.5],\n",
              "        [6. , 3.4, 4.5, 1.6],\n",
              "        [6.7, 3.1, 4.7, 1.5],\n",
              "        [6.3, 2.3, 4.4, 1.3],\n",
              "        [5.6, 3. , 4.1, 1.3],\n",
              "        [5.5, 2.5, 4. , 1.3],\n",
              "        [5.5, 2.6, 4.4, 1.2],\n",
              "        [6.1, 3. , 4.6, 1.4],\n",
              "        [5.8, 2.6, 4. , 1.2],\n",
              "        [5. , 2.3, 3.3, 1. ],\n",
              "        [5.6, 2.7, 4.2, 1.3],\n",
              "        [5.7, 3. , 4.2, 1.2],\n",
              "        [5.7, 2.9, 4.2, 1.3],\n",
              "        [6.2, 2.9, 4.3, 1.3],\n",
              "        [5.1, 2.5, 3. , 1.1],\n",
              "        [5.7, 2.8, 4.1, 1.3],\n",
              "        [6.3, 3.3, 6. , 2.5],\n",
              "        [5.8, 2.7, 5.1, 1.9],\n",
              "        [7.1, 3. , 5.9, 2.1],\n",
              "        [6.3, 2.9, 5.6, 1.8],\n",
              "        [6.5, 3. , 5.8, 2.2],\n",
              "        [7.6, 3. , 6.6, 2.1],\n",
              "        [4.9, 2.5, 4.5, 1.7],\n",
              "        [7.3, 2.9, 6.3, 1.8],\n",
              "        [6.7, 2.5, 5.8, 1.8],\n",
              "        [7.2, 3.6, 6.1, 2.5],\n",
              "        [6.5, 3.2, 5.1, 2. ],\n",
              "        [6.4, 2.7, 5.3, 1.9],\n",
              "        [6.8, 3. , 5.5, 2.1],\n",
              "        [5.7, 2.5, 5. , 2. ],\n",
              "        [5.8, 2.8, 5.1, 2.4],\n",
              "        [6.4, 3.2, 5.3, 2.3],\n",
              "        [6.5, 3. , 5.5, 1.8],\n",
              "        [7.7, 3.8, 6.7, 2.2],\n",
              "        [7.7, 2.6, 6.9, 2.3],\n",
              "        [6. , 2.2, 5. , 1.5],\n",
              "        [6.9, 3.2, 5.7, 2.3],\n",
              "        [5.6, 2.8, 4.9, 2. ],\n",
              "        [7.7, 2.8, 6.7, 2. ],\n",
              "        [6.3, 2.7, 4.9, 1.8],\n",
              "        [6.7, 3.3, 5.7, 2.1],\n",
              "        [7.2, 3.2, 6. , 1.8],\n",
              "        [6.2, 2.8, 4.8, 1.8],\n",
              "        [6.1, 3. , 4.9, 1.8],\n",
              "        [6.4, 2.8, 5.6, 2.1],\n",
              "        [7.2, 3. , 5.8, 1.6],\n",
              "        [7.4, 2.8, 6.1, 1.9],\n",
              "        [7.9, 3.8, 6.4, 2. ],\n",
              "        [6.4, 2.8, 5.6, 2.2],\n",
              "        [6.3, 2.8, 5.1, 1.5],\n",
              "        [6.1, 2.6, 5.6, 1.4],\n",
              "        [7.7, 3. , 6.1, 2.3],\n",
              "        [6.3, 3.4, 5.6, 2.4],\n",
              "        [6.4, 3.1, 5.5, 1.8],\n",
              "        [6. , 3. , 4.8, 1.8],\n",
              "        [6.9, 3.1, 5.4, 2.1],\n",
              "        [6.7, 3.1, 5.6, 2.4],\n",
              "        [6.9, 3.1, 5.1, 2.3],\n",
              "        [5.8, 2.7, 5.1, 1.9],\n",
              "        [6.8, 3.2, 5.9, 2.3],\n",
              "        [6.7, 3.3, 5.7, 2.5],\n",
              "        [6.7, 3. , 5.2, 2.3],\n",
              "        [6.3, 2.5, 5. , 1.9],\n",
              "        [6.5, 3. , 5.2, 2. ],\n",
              "        [6.2, 3.4, 5.4, 2.3],\n",
              "        [5.9, 3. , 5.1, 1.8]]),\n",
              " 'feature_names': ['sepal length (cm)',\n",
              "  'sepal width (cm)',\n",
              "  'petal length (cm)',\n",
              "  'petal width (cm)'],\n",
              " 'filename': '/usr/local/lib/python3.6/dist-packages/sklearn/datasets/data/iris.csv',\n",
              " 'target': array([0, 0, 0, 0, 0, 0, 0, 0, 0, 0, 0, 0, 0, 0, 0, 0, 0, 0, 0, 0, 0, 0,\n",
              "        0, 0, 0, 0, 0, 0, 0, 0, 0, 0, 0, 0, 0, 0, 0, 0, 0, 0, 0, 0, 0, 0,\n",
              "        0, 0, 0, 0, 0, 0, 1, 1, 1, 1, 1, 1, 1, 1, 1, 1, 1, 1, 1, 1, 1, 1,\n",
              "        1, 1, 1, 1, 1, 1, 1, 1, 1, 1, 1, 1, 1, 1, 1, 1, 1, 1, 1, 1, 1, 1,\n",
              "        1, 1, 1, 1, 1, 1, 1, 1, 1, 1, 1, 1, 2, 2, 2, 2, 2, 2, 2, 2, 2, 2,\n",
              "        2, 2, 2, 2, 2, 2, 2, 2, 2, 2, 2, 2, 2, 2, 2, 2, 2, 2, 2, 2, 2, 2,\n",
              "        2, 2, 2, 2, 2, 2, 2, 2, 2, 2, 2, 2, 2, 2, 2, 2, 2, 2]),\n",
              " 'target_names': array(['setosa', 'versicolor', 'virginica'], dtype='<U10')}"
            ]
          },
          "metadata": {
            "tags": []
          },
          "execution_count": 94
        }
      ]
    },
    {
      "cell_type": "code",
      "metadata": {
        "id": "KZyzN5aC8VvK",
        "colab_type": "code",
        "colab": {}
      },
      "source": [
        "non_versicolor_labels = [0 for i in range(100)]\n",
        "versicolor_labels = [1 for i in range(50)]"
      ],
      "execution_count": 0,
      "outputs": []
    },
    {
      "cell_type": "code",
      "metadata": {
        "id": "WGgwwIGu8ztB",
        "colab_type": "code",
        "colab": {}
      },
      "source": [
        "y = np.concatenate([non_versicolor_labels, versicolor_labels])"
      ],
      "execution_count": 0,
      "outputs": []
    },
    {
      "cell_type": "code",
      "metadata": {
        "id": "1-61vDBv8-kv",
        "colab_type": "code",
        "outputId": "1b60aa2a-d3fe-4f06-c402-43d22d9e306f",
        "colab": {
          "base_uri": "https://localhost:8080/",
          "height": 163
        }
      },
      "source": [
        "y"
      ],
      "execution_count": 0,
      "outputs": [
        {
          "output_type": "execute_result",
          "data": {
            "text/plain": [
              "array([0, 0, 0, 0, 0, 0, 0, 0, 0, 0, 0, 0, 0, 0, 0, 0, 0, 0, 0, 0, 0, 0,\n",
              "       0, 0, 0, 0, 0, 0, 0, 0, 0, 0, 0, 0, 0, 0, 0, 0, 0, 0, 0, 0, 0, 0,\n",
              "       0, 0, 0, 0, 0, 0, 0, 0, 0, 0, 0, 0, 0, 0, 0, 0, 0, 0, 0, 0, 0, 0,\n",
              "       0, 0, 0, 0, 0, 0, 0, 0, 0, 0, 0, 0, 0, 0, 0, 0, 0, 0, 0, 0, 0, 0,\n",
              "       0, 0, 0, 0, 0, 0, 0, 0, 0, 0, 0, 0, 1, 1, 1, 1, 1, 1, 1, 1, 1, 1,\n",
              "       1, 1, 1, 1, 1, 1, 1, 1, 1, 1, 1, 1, 1, 1, 1, 1, 1, 1, 1, 1, 1, 1,\n",
              "       1, 1, 1, 1, 1, 1, 1, 1, 1, 1, 1, 1, 1, 1, 1, 1, 1, 1])"
            ]
          },
          "metadata": {
            "tags": []
          },
          "execution_count": 76
        }
      ]
    },
    {
      "cell_type": "code",
      "metadata": {
        "id": "1kHKywUr9CMH",
        "colab_type": "code",
        "colab": {}
      },
      "source": [
        "perm = np.random.permutation(150)"
      ],
      "execution_count": 0,
      "outputs": []
    },
    {
      "cell_type": "code",
      "metadata": {
        "id": "TtKKSuae9NiV",
        "colab_type": "code",
        "colab": {}
      },
      "source": [
        "X_train, X_test = X[perm][20:], X[perm][:20]\n",
        "y_train, y_test = y[perm][20:], y[perm][:20]"
      ],
      "execution_count": 0,
      "outputs": []
    },
    {
      "cell_type": "code",
      "metadata": {
        "id": "0piQPmtgAdEp",
        "colab_type": "code",
        "outputId": "0a08a00a-9c61-45ad-8231-c1f55e990ba6",
        "colab": {
          "base_uri": "https://localhost:8080/",
          "height": 35
        }
      },
      "source": [
        "y_train.shape, y_test.shape, X_train.shape, X_test.shape"
      ],
      "execution_count": 0,
      "outputs": [
        {
          "output_type": "execute_result",
          "data": {
            "text/plain": [
              "((130,), (20,), (130, 4), (20, 4))"
            ]
          },
          "metadata": {
            "tags": []
          },
          "execution_count": 83
        }
      ]
    },
    {
      "cell_type": "code",
      "metadata": {
        "id": "zGVNDvYDBnR4",
        "colab_type": "code",
        "colab": {}
      },
      "source": [
        "y_train = y_train.reshape(-1, 1)\n",
        "y_test = y_test.reshape(-1, 1)"
      ],
      "execution_count": 0,
      "outputs": []
    },
    {
      "cell_type": "code",
      "metadata": {
        "id": "synvsTNPBv4E",
        "colab_type": "code",
        "colab": {}
      },
      "source": [
        "X_train = X_train.reshape(-1, 1)\n",
        "X_test = X_test.reshape(-1, 1)"
      ],
      "execution_count": 0,
      "outputs": []
    },
    {
      "cell_type": "code",
      "metadata": {
        "id": "BOaYfjVGDbVt",
        "colab_type": "code",
        "colab": {}
      },
      "source": [
        "X_train"
      ],
      "execution_count": 0,
      "outputs": []
    },
    {
      "cell_type": "code",
      "metadata": {
        "id": "p1kWAs0cCEUM",
        "colab_type": "code",
        "outputId": "4bb0790d-6e99-4fe2-fc6e-d7f4ce8cbab6",
        "colab": {
          "base_uri": "https://localhost:8080/",
          "height": 243
        }
      },
      "source": [
        "plt.plot(X_train['versicolor'][:,0], X_train['versicolor'][:,1], 'b.')\n",
        "\n",
        "plt.plot(X_train[not_versicolor][:,0], X_train[not_versicolor][:,1], 'r.')\n",
        "\n",
        "plt.xlabel('Petal Length (cm)')\n",
        "plt.ylabel('Petal Width (cm)')\n",
        "plt.legend(['Versicolor', 'Not Versicolor'])\n",
        "plt.show();"
      ],
      "execution_count": 0,
      "outputs": [
        {
          "output_type": "error",
          "ename": "IndexError",
          "evalue": "ignored",
          "traceback": [
            "\u001b[0;31m---------------------------------------------------------------------------\u001b[0m",
            "\u001b[0;31mIndexError\u001b[0m                                Traceback (most recent call last)",
            "\u001b[0;32m<ipython-input-95-0cee210839ad>\u001b[0m in \u001b[0;36m<module>\u001b[0;34m()\u001b[0m\n\u001b[0;32m----> 1\u001b[0;31m \u001b[0mplt\u001b[0m\u001b[0;34m.\u001b[0m\u001b[0mplot\u001b[0m\u001b[0;34m(\u001b[0m\u001b[0mX_train\u001b[0m\u001b[0;34m[\u001b[0m\u001b[0;34m'versicolor'\u001b[0m\u001b[0;34m]\u001b[0m\u001b[0;34m[\u001b[0m\u001b[0;34m:\u001b[0m\u001b[0;34m,\u001b[0m\u001b[0;36m0\u001b[0m\u001b[0;34m]\u001b[0m\u001b[0;34m,\u001b[0m \u001b[0mX_train\u001b[0m\u001b[0;34m[\u001b[0m\u001b[0;34m'versicolor'\u001b[0m\u001b[0;34m]\u001b[0m\u001b[0;34m[\u001b[0m\u001b[0;34m:\u001b[0m\u001b[0;34m,\u001b[0m\u001b[0;36m1\u001b[0m\u001b[0;34m]\u001b[0m\u001b[0;34m,\u001b[0m \u001b[0;34m'b.'\u001b[0m\u001b[0;34m)\u001b[0m\u001b[0;34m\u001b[0m\u001b[0;34m\u001b[0m\u001b[0m\n\u001b[0m\u001b[1;32m      2\u001b[0m \u001b[0;34m\u001b[0m\u001b[0m\n\u001b[1;32m      3\u001b[0m \u001b[0mplt\u001b[0m\u001b[0;34m.\u001b[0m\u001b[0mplot\u001b[0m\u001b[0;34m(\u001b[0m\u001b[0mX_train\u001b[0m\u001b[0;34m[\u001b[0m\u001b[0mnot_versicolor\u001b[0m\u001b[0;34m]\u001b[0m\u001b[0;34m[\u001b[0m\u001b[0;34m:\u001b[0m\u001b[0;34m,\u001b[0m\u001b[0;36m0\u001b[0m\u001b[0;34m]\u001b[0m\u001b[0;34m,\u001b[0m \u001b[0mX_train\u001b[0m\u001b[0;34m[\u001b[0m\u001b[0mnot_versicolor\u001b[0m\u001b[0;34m]\u001b[0m\u001b[0;34m[\u001b[0m\u001b[0;34m:\u001b[0m\u001b[0;34m,\u001b[0m\u001b[0;36m1\u001b[0m\u001b[0;34m]\u001b[0m\u001b[0;34m,\u001b[0m \u001b[0;34m'r.'\u001b[0m\u001b[0;34m)\u001b[0m\u001b[0;34m\u001b[0m\u001b[0;34m\u001b[0m\u001b[0m\n\u001b[1;32m      4\u001b[0m \u001b[0;34m\u001b[0m\u001b[0m\n\u001b[1;32m      5\u001b[0m \u001b[0mplt\u001b[0m\u001b[0;34m.\u001b[0m\u001b[0mxlabel\u001b[0m\u001b[0;34m(\u001b[0m\u001b[0;34m'Petal Length (cm)'\u001b[0m\u001b[0;34m)\u001b[0m\u001b[0;34m\u001b[0m\u001b[0;34m\u001b[0m\u001b[0m\n",
            "\u001b[0;31mIndexError\u001b[0m: only integers, slices (`:`), ellipsis (`...`), numpy.newaxis (`None`) and integer or boolean arrays are valid indices"
          ]
        }
      ]
    },
    {
      "cell_type": "markdown",
      "metadata": {
        "id": "GFqUm88F8V2u",
        "colab_type": "text"
      },
      "source": [
        "\n",
        "\n",
        "---\n",
        "\n"
      ]
    }
  ]
}